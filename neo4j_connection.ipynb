{
 "cells": [
  {
   "cell_type": "code",
   "execution_count": 1,
   "metadata": {},
   "outputs": [],
   "source": [
    "from neo4j import GraphDatabase\n",
    "from typing import Dict, Any, List"
   ]
  },
  {
   "cell_type": "code",
   "execution_count": 15,
   "metadata": {},
   "outputs": [
    {
     "name": "stdout",
     "output_type": "stream",
     "text": [
      "Keywords: ['vulnerabiity to infections', 'Weakened immune system', 'Neurological problems', 'vision problems', 'Increased risk of cardiovascular diseases', 'Impaired immune function', 'Anemia', 'Vision problems', 'Muscle weakness', 'Weakness and muscle damage', 'Inflammation', 'Oxidative stress', 'Increased risk of atherosclerosis', 'Impaired immune response', 'Increase risk of cardiovascular diseases', 'Neurological issues', 'muscle weakness', 'vulnerability to infections', 'Oxidative degradation', 'Increased risk of oxidative stress-related diseases', 'increased levels of plasma phospholipid hydroperoxide', 'musle weakness', 'Increased risk of oxidative stress', 'Night blindness', 'Increased susceptibility to infections', 'night blindness', 'increased susceptibility to infections', 'Dry skin', 'accumulation of unbound apo-RBP in the liver', 'increased risk of Vitamin A deficiency (VAD)', 'Increased risk of cardiovascular disease', 'Nerve damage', 'No significant correlation between vitamin E supplementation and ischemic CVD incidence', 'No significant association between vitamin E intake and mortality from total stroke, coronary heart disease, and CVD', 'Weak immune system', 'Poor vision', 'increased oxidative stress', 'not mentioned in the provided text', 'Increased risk of inflammation and cancer', 'Clinical ophthalmic signs', 'Low circulating plasma retinol concentrations', 'increased risk of Vitamin A deficiency', 'Impaired growth and development', 'Xerophthalmia (dry eyes)', 'Increased risk of heart failure', 'No significant improvement in cardiovascular outcomes', 'No significant relation to total mortality in high cardiovascular risk', 'Increase in oxidative stress', 'Clinical ophthalmic signs of vitamin A deficiency', 'severe VAD', 'unbound apo-RBP accumulation in the liver', 'Weakness', 'oxidative stress-related issues', 'potential tissue-specific deficiencies', 'oxidative degradation', 'depression, nervousness, impaired immune response, irritability', 'sideroblastic microcytic anemia, seizures, peripheral neuropathy', 'low PLP concentrations in cerebrospinal fluid, neonatal epileptic encephalopathy', 'Neurological symptoms like sensory ataxic neuropathy', 'Dermatologic lesions', 'Megaloblastic anemia', 'Neuropathy', 'Depression or memory loss', 'Cognitive decline', 'Cognitive issues', 'Vitamin B12 deficiency', 'Increased risk of excessive bleeding', 'Poor bone health', 'Increased risk of bleeding', 'Impaired bone health', 'Impaired blood clotting', 'Increased risk of fractures', 'Excessive bleeding', 'increased risk of bleeding', 'poor bone health', 'Potential bone health issues', 'Decreased bone density', 'Impaired bone metabolism', 'Enhanced vascular calcification', 'Weakened bones', 'Osteoporosis', 'Pathological fractures', 'Vascular calcifications', 'Vascular calcification', 'Inflammatory conditions', 'Osteoporotic fractures', 'Weakened bones (osteomalacia)', 'bone pain and muscle weakness', 'increased risk of fractures', 'Weakened bones (osteomalacia or rickets)', 'Increased risk of infections', 'Bone loss', 'Weakened bones (osteoporosis)', 'hypovitaminosis D', 'Increase risk of fractures', 'Weakened bones and increased risk of fractures', 'bone loss', 'increased risk of falls and fractures', 'life-threatening cardiac arrhythmias', 'Weakness and fatigue', 'Muscle cramps', 'fatigue', 'irregular heartbeat', 'Fatigue', 'Irregular heartbeat', 'Increased risk of high blood pressure', 'Hypertension', 'increased risk of high blood pressure', 'Risk of hypertension', 'Increased vasoconstrictive sensitivity', 'High blood pressure', 'Risk of illness and chronic degenerative diseases', 'Hypomagnesemia', 'Muscle cramps and weakness', 'Nausea and vomiting', 'Neurological disorders like migraine and epilepsy', 'Bone loss and decline in bone formation', 'Increased NMDA receptor activity leading to anxiety and depression', 'Insulin resistance', 'Type 2 diabetes mellitus', 'Poor DNA repair mechanisms', 'Increased risk of DNA mutations and carcinogenesis', 'Impaired RNA synthesis and transcription', 'brittle bones', 'increased fracture risk', 'inflammatory syndrome', 'Hyperexcitability of neurons', 'Increased release of substance P, a neuroinflammatory agent', 'muscle cramps', 'Muscle soreness', 'Decreased ATP availability', 'Increased risk of skeletal muscle cramps', 'Hypocalcemia', 'Resistance to pharmacological doses of vitamin D', 'Tiredness and fatigue', 'Electrolyte imbalance', 'Impaired muscle function', 'Weak bones and teeth', 'Diarrhea', 'Laxative effects', 'hypocalcemia', 'hypokalemia', 'osteoporosis', 'cardiovascular disorders', 'neurological disorders', 'diabetes', 'tumors', 'Covid-19', 'diarrhea, nausea, and vomiting', 'low blood pressure', 'loss of deep tendon reflexes', 'Sinoatrial or atrioventricular node blocks', 'respiratory paralysis', 'cardiac arrest', 'Increased insulin resistance', 'Coronary artery spasms', 'Heart attack', 'Cardiac arrhythmia', 'Atherosclerosis', 'Thrombosis', 'Cardiovascular complications', 'Increased risk of cancer', 'increased risk of colorectal cancer', 'higher viral load of Epstein Barr virus', 'impaired T cell activation and increased risk of hematologic malignancies', 'Migraines', 'Depression', 'neurological impairments', 'cognitive decline', \"increased risk of Alzheimer's and Parkinson's diseases\", 'Subclinical magnesium deficiency', 'Impact on different physiological functions', 'Disturbances in carbohydrate metabolism', 'Increased risk of neurological disorders', 'Fatigue and muscle weakness', 'Abnormal heart rhythms', 'Irritability', 'Mild anxiety', 'Headache', 'Muscular weakness', 'Cardiovascular abnormalities', 'Increased risk of type 2 diabetes and osteoporosis', 'Neuronal hyperactivity', 'Impairment of key systems controlling the stress response', 'Sleep disorders', 'increased susceptibility to stress disorders', 'magnesium depletion', 'Fatigue and weakness', 'Muscle cramps and spasms', 'Hypernatremia', 'Neuronal damage', 'Central nervous system dysfunction', 'Death', 'Hyponatremia (low blood sodium)', 'Dehydration', 'Confusion', 'Hyponatremia (low sodium levels)', 'Hyponatremia', 'Electrolyte imbalances', 'Accumulation of unbound apo-RBP in the liver', 'Increased risk of Vitamin A deficiency (VAD)', 'Impaired keratinocyte differentiation', 'Skin diseases like psoriasis and atopic dermatitis', 'Numbness or tingling in extremities', 'impaired keratinocyte differentiation', 'weakened skin barrier', 'Impaired keratinocyte differentiation and proliferation', 'Sporadic hair loss', 'Not specified in the article', 'Muscle atrophy', 'Loss of muscle mass', 'Decreased bone mineral density', 'Increased risk of osteoporosis', 'Delayed growth and development in children', 'Cardiac hypertrophy', 'Weakened bones and teeth', 'Numbness and tingling in extremities']\n"
     ]
    }
   ],
   "source": [
    "class NutrientGraphManager:\n",
    "    def __init__(self, uri: str, username: str, password: str):\n",
    "        \"\"\"Initialize the Neo4j connection.\"\"\"\n",
    "        self.driver = GraphDatabase.driver(uri, auth=(username, password))\n",
    "\n",
    "    def close(self):\n",
    "        \"\"\"Close the Neo4j connection.\"\"\"\n",
    "        self.driver.close()\n",
    "          \n",
    "    # fetch symptoms in Neo4j database\n",
    "    def fetch_symptoms(self):\n",
    "        \"\"\"Clear all nodes and relationships in the database.\"\"\"\n",
    "        with self.driver.session() as session:\n",
    "            symptoms_fetched = session.run(\"MATCH (s:Symptom) RETURN COLLECT(s.name)\").values()[0][0]\n",
    "            return symptoms_fetched\n",
    "\n",
    "def main():\n",
    "    URI = \"neo4j://localhost:7687\"  \n",
    "    USERNAME = \"neo4j\"              \n",
    "    PASSWORD = \"obinutriproject\"     \n",
    "\n",
    "    graph_manager = NutrientGraphManager(URI, USERNAME, PASSWORD)\n",
    "\n",
    "    try:\n",
    "        keywords = graph_manager.fetch_symptoms()    \n",
    "        print(\"Keywords:\", keywords)\n",
    "    except Exception as e:\n",
    "        print(f\"Error occurred: {str(e)}\")\n",
    "    finally:\n",
    "        graph_manager.close()\n",
    "\n",
    "if __name__ == \"__main__\":\n",
    "    main()"
   ]
  },
  {
   "cell_type": "code",
   "execution_count": 11,
   "metadata": {},
   "outputs": [
    {
     "data": {
      "text/plain": [
       "217"
      ]
     },
     "execution_count": 11,
     "metadata": {},
     "output_type": "execute_result"
    }
   ],
   "source": [
    "Keywords= ['vulnerabiity to infections', 'Weakened immune system', 'Neurological problems', 'vision problems', 'Increased risk of cardiovascular diseases', 'Impaired immune function', 'Anemia', 'Vision problems', 'Muscle weakness', 'Weakness and muscle damage', 'Inflammation', 'Oxidative stress', 'Increased risk of atherosclerosis', 'Impaired immune response', 'Increase risk of cardiovascular diseases', 'Neurological issues', 'muscle weakness', 'vulnerability to infections', 'Oxidative degradation', 'Increased risk of oxidative stress-related diseases', 'increased levels of plasma phospholipid hydroperoxide', 'musle weakness', 'Increased risk of oxidative stress', 'Night blindness', 'Increased susceptibility to infections', 'night blindness', 'increased susceptibility to infections', 'Dry skin', 'accumulation of unbound apo-RBP in the liver', 'increased risk of Vitamin A deficiency (VAD)', 'Increased risk of cardiovascular disease', 'Nerve damage', 'No significant correlation between vitamin E supplementation and ischemic CVD incidence', 'No significant association between vitamin E intake and mortality from total stroke, coronary heart disease, and CVD', 'Weak immune system', 'Poor vision', 'increased oxidative stress', 'not mentioned in the provided text', 'Increased risk of inflammation and cancer', 'Clinical ophthalmic signs', 'Low circulating plasma retinol concentrations', 'increased risk of Vitamin A deficiency', 'Impaired growth and development', 'Xerophthalmia (dry eyes)', 'Increased risk of heart failure', 'No significant improvement in cardiovascular outcomes', 'No significant relation to total mortality in high cardiovascular risk', 'Increase in oxidative stress', 'Clinical ophthalmic signs of vitamin A deficiency', 'severe VAD', 'unbound apo-RBP accumulation in the liver', 'Weakness', 'oxidative stress-related issues', 'potential tissue-specific deficiencies', 'oxidative degradation', 'depression, nervousness, impaired immune response, irritability', 'sideroblastic microcytic anemia, seizures, peripheral neuropathy', 'low PLP concentrations in cerebrospinal fluid, neonatal epileptic encephalopathy', 'Neurological symptoms like sensory ataxic neuropathy', 'Dermatologic lesions', 'Megaloblastic anemia', 'Neuropathy', 'Depression or memory loss', 'Cognitive decline', 'Cognitive issues', 'Vitamin B12 deficiency', 'Increased risk of excessive bleeding', 'Poor bone health', 'Increased risk of bleeding', 'Impaired bone health', 'Impaired blood clotting', 'Increased risk of fractures', 'Excessive bleeding', 'increased risk of bleeding', 'poor bone health', 'Potential bone health issues', 'Decreased bone density', 'Impaired bone metabolism', 'Enhanced vascular calcification', 'Weakened bones', 'Osteoporosis', 'Pathological fractures', 'Vascular calcifications', 'Vascular calcification', 'Inflammatory conditions', 'Osteoporotic fractures', 'Weakened bones (osteomalacia)', 'bone pain and muscle weakness', 'increased risk of fractures', 'Weakened bones (osteomalacia or rickets)', 'Increased risk of infections', 'Bone loss', 'Weakened bones (osteoporosis)', 'hypovitaminosis D', 'Increase risk of fractures', 'Weakened bones and increased risk of fractures', 'bone loss', 'increased risk of falls and fractures', 'life-threatening cardiac arrhythmias', 'Weakness and fatigue', 'Muscle cramps', 'fatigue', 'irregular heartbeat', 'Fatigue', 'Irregular heartbeat', 'Increased risk of high blood pressure', 'Hypertension', 'increased risk of high blood pressure', 'Risk of hypertension', 'Increased vasoconstrictive sensitivity', 'High blood pressure', 'Risk of illness and chronic degenerative diseases', 'Hypomagnesemia', 'Muscle cramps and weakness', 'Nausea and vomiting', 'Neurological disorders like migraine and epilepsy', 'Bone loss and decline in bone formation', 'Increased NMDA receptor activity leading to anxiety and depression', 'Insulin resistance', 'Type 2 diabetes mellitus', 'Poor DNA repair mechanisms', 'Increased risk of DNA mutations and carcinogenesis', 'Impaired RNA synthesis and transcription', 'brittle bones', 'increased fracture risk', 'inflammatory syndrome', 'Hyperexcitability of neurons', 'Increased release of substance P, a neuroinflammatory agent', 'muscle cramps', 'Muscle soreness', 'Decreased ATP availability', 'Increased risk of skeletal muscle cramps', 'Hypocalcemia', 'Resistance to pharmacological doses of vitamin D', 'Tiredness and fatigue', 'Electrolyte imbalance', 'Impaired muscle function', 'Weak bones and teeth', 'Diarrhea', 'Laxative effects', 'hypocalcemia', 'hypokalemia', 'osteoporosis', 'cardiovascular disorders', 'neurological disorders', 'diabetes', 'tumors', 'Covid-19', 'diarrhea, nausea, and vomiting', 'low blood pressure', 'loss of deep tendon reflexes', 'Sinoatrial or atrioventricular node blocks', 'respiratory paralysis', 'cardiac arrest', 'Increased insulin resistance', 'Coronary artery spasms', 'Heart attack', 'Cardiac arrhythmia', 'Atherosclerosis', 'Thrombosis', 'Cardiovascular complications', 'Increased risk of cancer', 'increased risk of colorectal cancer', 'higher viral load of Epstein Barr virus', 'impaired T cell activation and increased risk of hematologic malignancies', 'Migraines', 'Depression', 'neurological impairments', 'cognitive decline', \"increased risk of Alzheimer's and Parkinson's diseases\", 'Subclinical magnesium deficiency', 'Impact on different physiological functions', 'Disturbances in carbohydrate metabolism', 'Increased risk of neurological disorders', 'Fatigue and muscle weakness', 'Abnormal heart rhythms', 'Irritability', 'Mild anxiety', 'Headache', 'Muscular weakness', 'Cardiovascular abnormalities', 'Increased risk of type 2 diabetes and osteoporosis', 'Neuronal hyperactivity', 'Impairment of key systems controlling the stress response', 'Sleep disorders', 'increased susceptibility to stress disorders', 'magnesium depletion', 'Fatigue and weakness', 'Muscle cramps and spasms', 'Hypernatremia', 'Neuronal damage', 'Central nervous system dysfunction', 'Death', 'Hyponatremia (low blood sodium)', 'Dehydration', 'Confusion', 'Hyponatremia (low sodium levels)', 'Hyponatremia', 'Electrolyte imbalances', 'Accumulation of unbound apo-RBP in the liver', 'Increased risk of Vitamin A deficiency (VAD)', 'Impaired keratinocyte differentiation', 'Skin diseases like psoriasis and atopic dermatitis', 'Numbness or tingling in extremities', 'impaired keratinocyte differentiation', 'weakened skin barrier', 'Impaired keratinocyte differentiation and proliferation', 'Sporadic hair loss', 'Not specified in the article', 'Muscle atrophy', 'Loss of muscle mass', 'Decreased bone mineral density', 'Increased risk of osteoporosis', 'Delayed growth and development in children', 'Cardiac hypertrophy', 'Weakened bones and teeth', 'Numbness and tingling in extremities']\n",
    "len(Keywords)"
   ]
  },
  {
   "cell_type": "code",
   "execution_count": null,
   "metadata": {},
   "outputs": [],
   "source": []
  }
 ],
 "metadata": {
  "kernelspec": {
   "display_name": "myLLMenv",
   "language": "python",
   "name": "python3"
  },
  "language_info": {
   "codemirror_mode": {
    "name": "ipython",
    "version": 3
   },
   "file_extension": ".py",
   "mimetype": "text/x-python",
   "name": "python",
   "nbconvert_exporter": "python",
   "pygments_lexer": "ipython3",
   "version": "3.11.9"
  }
 },
 "nbformat": 4,
 "nbformat_minor": 2
}
