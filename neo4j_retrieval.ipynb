{
 "cells": [
  {
   "cell_type": "code",
   "execution_count": 7,
   "metadata": {},
   "outputs": [],
   "source": [
    "import time"
   ]
  },
  {
   "cell_type": "code",
   "execution_count": 2,
   "metadata": {},
   "outputs": [
    {
     "name": "stdout",
     "output_type": "stream",
     "text": [
      "Collecting scikit-learn\n",
      "  Downloading scikit_learn-1.5.2-cp311-cp311-macosx_12_0_arm64.whl.metadata (13 kB)\n",
      "Requirement already satisfied: numpy>=1.19.5 in /Users/obinnairrechukwu/anaconda3/envs/myLLMenv/lib/python3.11/site-packages (from scikit-learn) (1.26.4)\n",
      "Collecting scipy>=1.6.0 (from scikit-learn)\n",
      "  Downloading scipy-1.14.1-cp311-cp311-macosx_14_0_arm64.whl.metadata (60 kB)\n",
      "Requirement already satisfied: joblib>=1.2.0 in /Users/obinnairrechukwu/anaconda3/envs/myLLMenv/lib/python3.11/site-packages (from scikit-learn) (1.4.2)\n",
      "Collecting threadpoolctl>=3.1.0 (from scikit-learn)\n",
      "  Downloading threadpoolctl-3.5.0-py3-none-any.whl.metadata (13 kB)\n",
      "Downloading scikit_learn-1.5.2-cp311-cp311-macosx_12_0_arm64.whl (11.0 MB)\n",
      "\u001b[2K   \u001b[90m━━━━━━━━━━━━━━━━━━━━━━━━━━━━━━━━━━━━━━━━\u001b[0m \u001b[32m11.0/11.0 MB\u001b[0m \u001b[31m6.0 MB/s\u001b[0m eta \u001b[36m0:00:00\u001b[0m00:01\u001b[0m0:01\u001b[0m\n",
      "\u001b[?25hDownloading scipy-1.14.1-cp311-cp311-macosx_14_0_arm64.whl (23.1 MB)\n",
      "\u001b[2K   \u001b[90m━━━━━━━━━━━━━━━━━━━━━━━━━━━━━━━━━━━━━━━━\u001b[0m \u001b[32m23.1/23.1 MB\u001b[0m \u001b[31m4.6 MB/s\u001b[0m eta \u001b[36m0:00:00\u001b[0m00:01\u001b[0m00:01\u001b[0m\n",
      "\u001b[?25hDownloading threadpoolctl-3.5.0-py3-none-any.whl (18 kB)\n",
      "Installing collected packages: threadpoolctl, scipy, scikit-learn\n",
      "Successfully installed scikit-learn-1.5.2 scipy-1.14.1 threadpoolctl-3.5.0\n"
     ]
    }
   ],
   "source": [
    "# install sklearn\n",
    "! pip install scikit-learn"
   ]
  },
  {
   "cell_type": "code",
   "execution_count": 9,
   "metadata": {},
   "outputs": [
    {
     "name": "stdout",
     "output_type": "stream",
     "text": [
      "Time taken: 5.026917934417725\n",
      "TF-IDF Mapped Keywords: ['weakness and muscle damage', 'fatigue and weakness', 'numbness or tingling in extremities']\n"
     ]
    }
   ],
   "source": [
    "\n",
    "from sklearn.feature_extraction.text import TfidfVectorizer\n",
    "from sklearn.metrics.pairwise import cosine_similarity\n",
    "import numpy as np\n",
    "\n",
    "def setup_tfidf_matcher(keyword_list):\n",
    "    vectorizer = TfidfVectorizer()\n",
    "    keyword_vectors = vectorizer.fit_transform(keyword_list)\n",
    "    return vectorizer, keyword_vectors\n",
    "\n",
    "def map_sentence_to_keywords_tfidf(vectorizer, keyword_vectors, keyword_list, sentence, top_n=3):\n",
    "    sentence_vector = vectorizer.transform([sentence])\n",
    "    similarities = cosine_similarity(sentence_vector, keyword_vectors).flatten()\n",
    "    top_indices = np.argsort(similarities)[-top_n:][::-1]\n",
    "    return [keyword_list[i] for i in top_indices]\n",
    "\n",
    "\n",
    "# Cosine similarity\n",
    "keyword_list = ['weakened immune system', 'vision problems', 'neurological problems', 'muscle weakness',\n",
    "                'weakness and muscle damage', 'anemia', 'impaired immune response',\n",
    "                'oxidative degradation', 'nerve damage', 'poor vision', 'dry skin', 'increased susceptibility to infections',\n",
    "                'xerophthalmia', 'clinical ophthalmic signs of vitamin A deficiency', 'severe VAD', \n",
    "                'depression', 'nervosness', 'irritability', 'sideroblastic microcytic anemia', 'seizures',\n",
    "                'peripheral neuropathy', 'dermatologic lesions', 'megaloblastic anemia', 'neropathy', 'memory loss',\n",
    "                'nausea and vomiting', 'migraine', 'insulin resistance', 'hypocalcemia', 'thrombosis',\n",
    "                'cardiovascular complications', 'impaired T cell activation and increased risk of hematologic malignancies',\n",
    "                'cognitive decline', 'abnormal health rhythms', 'mild anxiety', 'sleep disorders', 'fatigue and weakness',\n",
    "                'hypernatremia', 'confusion', 'numbness or tingling in extremities', 'sporadic hair loss', 'loss of muscle mass']\n",
    "\n",
    "sentence = \"\"\"I've been feeling a bit off lately. I'm experiencing a lot of muscle weakness, especially in my legs. \n",
    "Sometimes, I even have trouble walking without stumbling. My reflexes seem slower than usual, \n",
    "and I've noticed some numbness and tingling in my hands and feet. \n",
    "I've also been feeling a bit lightheaded, and my vision seems a little blurry. I'm worried about what might be causing these issues.\"\"\"\n",
    "\n",
    "start_time = time.time()\n",
    "for i in range(10000):\n",
    "    vectorizer, keyword_vectors = setup_tfidf_matcher(keyword_list)  \n",
    "    mapped_keywords = map_sentence_to_keywords_tfidf(vectorizer, keyword_vectors, keyword_list, sentence)\n",
    "end_time = time.time()\n",
    "print(\"Time taken:\", end_time - start_time)\n",
    "print(\"TF-IDF Mapped Keywords:\", mapped_keywords)\n",
    "\n"
   ]
  },
  {
   "cell_type": "code",
   "execution_count": 5,
   "metadata": {},
   "outputs": [
    {
     "name": "stdout",
     "output_type": "stream",
     "text": [
      "Collecting fuzzywuzzy\n",
      "  Downloading fuzzywuzzy-0.18.0-py2.py3-none-any.whl.metadata (4.9 kB)\n",
      "Downloading fuzzywuzzy-0.18.0-py2.py3-none-any.whl (18 kB)\n",
      "Installing collected packages: fuzzywuzzy\n",
      "Successfully installed fuzzywuzzy-0.18.0\n"
     ]
    }
   ],
   "source": [
    "# install fuzzywuzzy\n",
    "! pip install fuzzywuzzy"
   ]
  },
  {
   "cell_type": "code",
   "execution_count": 10,
   "metadata": {},
   "outputs": [
    {
     "name": "stdout",
     "output_type": "stream",
     "text": [
      "Time taken: 134.38339829444885\n",
      "Fuzzy Mapped Keywords: ['impaired T cell activation and increased risk of hematologic malignancies', 'muscle weakness', 'vision problems']\n"
     ]
    }
   ],
   "source": [
    "# Fuzzy matching\n",
    "from fuzzywuzzy import process\n",
    "\n",
    "\n",
    "\n",
    "\n",
    "keyword_list = \n",
    "\n",
    "#keyword_list = ['Bruising', 'Hemolytic anemia', 'Iron-deficiency Anemia', 'Spina bifida', 'Ariboflavinosis', 'Tremors', 'Skin irritation', 'Cardiovascular Disease', 'Heart Disease', 'Hypomagnesemia', 'Difficulty concentrating', 'Liver damage', 'Bleeding gums', 'Inflammatory disorders', 'Parkinson s Disease', 'Preeclampsia', 'Swollen gums', 'Tissue fragility', 'Abdominal Pain', 'Oxidative stress', 'Fatigue', 'Depressed Mood', 'Chest pain', 'Magnesium Deficiency', 'Joint pain', 'Increased oxidative stress', 'Cognitive Impairment', 'Thrombus formation', 'Coronary heart disease', 'Reduced bone mass', 'Pale skin', 'Deficiency can lead to neurological disorders', 'Zinc Deficiency', 'Clostridium difficile infection', 'Hair Loss', 'Abdominal Cramps', 'Antibiotic-associated diarrhea', 'Migraine', 'Alzheimer s disease', 'Cell proliferation', 'Loss of height', 'Osteoporosis', 'Airway inflammation', 'Poor bioavailability of tocotrienol', 'Dysmenorrhea', 'Menstrual Pain', 'Sensitivity to light', 'Neurological disorders', 'Asthma', 'Blindness', 'Neurodevelopmental Disorders', 'Anemia', 'Cognitive Decline', 'Delayed wound healing', 'Headache', 'Difficulty seeing in low light', 'High blood pressure', 'Beriberi', 'Bleeding Gums', 'Premenstrual Syndrome (PMS)', 'Weight gain', 'Tiredness', 'Muscle cramps', 'Bradykinesia', 'Protein in urine', 'Proinflammatory cytokines production', 'Behavioral Issues', 'Dry eyes', 'Irritability', 'Insulin resistance', 'Traumatic brain injury', 'Not available', 'Major Depression', 'Cardiac arrhythmias', 'Increased risk of atherosclerosis', 'Muscle Weakness', 'Depression', 'Vitamin A Deficiency', 'Dry Skin', 'Neural tube defects', 'Scurvy', 'Cognitive decline', 'Vision problems', 'Insulin Resistance', 'N/A', 'Increased fragility', 'Mood swings', 'Weakened immune system', 'High blood sugar levels', 'Anencephaly', 'Muscle weakness', 'Diarrhea', 'Capillary fragility', 'Xerophthalmia', 'Anxiety and Depression', 'Shortness of breath', 'Atheromas formation', 'Heart-related symptoms', 'Bone pain', 'Decreased bone density', 'Numbness', 'Vision Problems', 'Inflammatory Diseases', 'Hypomagnesaemia', 'Bloating', 'Atherosclerosis', 'Metabolic Syndrome', 'Back pain', 'Alzheimer s Disease', 'Night blindness', 'Parkinson s disease', 'Essential Fatty Acid Deficiency', 'Hair loss', 'Asymptomatic', 'Anxiety', 'Swelling', 'Swollen mucous membranes', 'Disease caused by deficiencies of the nutrient', 'Osteoarthritis', 'Memory loss', 'Vitamin E Deficiency', 'Poor healing', 'Clinical features', 'Weakness', 'Nausea', 'Not specified', 'Sore throat', 'Bone fractures', 'Irritable bowel syndrome', 'Allergic disorders', 'Nerve damage']\n",
    "\n",
    "\n",
    "sentence = \"\"\"I've been feeling a bit off lately. I'm experiencing a lot of muscle weakness, especially in my legs. \n",
    "Sometimes, I even have trouble walking without stumbling. My reflexes seem slower than usual, \n",
    "and I've noticed some numbness and tingling in my hands and feet. \n",
    "I've also been feeling a bit lightheaded, and my vision seems a little blurry. I'm worried about what might be causing these issues.\"\"\"\n",
    "\n",
    "# start_time = time.time()\n",
    "# for i in range(10000):\n",
    "#     mapped_keywords = map_sentence_to_keywords_fuzzy(keyword_list, sentence)\n",
    "# end_time = time.time()\n",
    "# print(\"Time taken:\", end_time - start_time)\n",
    "print(\"Fuzzy Mapped Keywords:\", mapped_keywords)"
   ]
  },
  {
   "cell_type": "code",
   "execution_count": 43,
   "metadata": {},
   "outputs": [
    {
     "name": "stderr",
     "output_type": "stream",
     "text": [
      "huggingface/tokenizers: The current process just got forked, after parallelism has already been used. Disabling parallelism to avoid deadlocks...\n",
      "To disable this warning, you can either:\n",
      "\t- Avoid using `tokenizers` before the fork if possible\n",
      "\t- Explicitly set the environment variable TOKENIZERS_PARALLELISM=(true | false)\n"
     ]
    },
    {
     "name": "stdout",
     "output_type": "stream",
     "text": [
      "Found existing installation: peft 0.14.0\n",
      "Uninstalling peft-0.14.0:\n",
      "  Successfully uninstalled peft-0.14.0\n"
     ]
    }
   ],
   "source": [
    "# install sentence_transformers\n",
    "! pip uninstall peft -y"
   ]
  },
  {
   "cell_type": "code",
   "execution_count": 44,
   "metadata": {},
   "outputs": [
    {
     "name": "stderr",
     "output_type": "stream",
     "text": [
      "huggingface/tokenizers: The current process just got forked, after parallelism has already been used. Disabling parallelism to avoid deadlocks...\n",
      "To disable this warning, you can either:\n",
      "\t- Avoid using `tokenizers` before the fork if possible\n",
      "\t- Explicitly set the environment variable TOKENIZERS_PARALLELISM=(true | false)\n"
     ]
    },
    {
     "name": "stdout",
     "output_type": "stream",
     "text": [
      "Collecting peft==0.3.0\n",
      "  Using cached peft-0.3.0-py3-none-any.whl.metadata (21 kB)\n",
      "Requirement already satisfied: numpy>=1.17 in /Users/obinnairrechukwu/anaconda3/envs/myLLMenv/lib/python3.11/site-packages (from peft==0.3.0) (1.26.4)\n",
      "Requirement already satisfied: packaging>=20.0 in /Users/obinnairrechukwu/anaconda3/envs/myLLMenv/lib/python3.11/site-packages (from peft==0.3.0) (24.1)\n",
      "Requirement already satisfied: psutil in /Users/obinnairrechukwu/anaconda3/envs/myLLMenv/lib/python3.11/site-packages (from peft==0.3.0) (5.9.0)\n",
      "Requirement already satisfied: pyyaml in /Users/obinnairrechukwu/anaconda3/envs/myLLMenv/lib/python3.11/site-packages (from peft==0.3.0) (6.0.1)\n",
      "Requirement already satisfied: torch>=1.13.0 in /Users/obinnairrechukwu/anaconda3/envs/myLLMenv/lib/python3.11/site-packages (from peft==0.3.0) (2.3.1)\n",
      "Requirement already satisfied: transformers in /Users/obinnairrechukwu/anaconda3/envs/myLLMenv/lib/python3.11/site-packages (from peft==0.3.0) (4.41.2)\n",
      "Requirement already satisfied: accelerate in /Users/obinnairrechukwu/anaconda3/envs/myLLMenv/lib/python3.11/site-packages (from peft==0.3.0) (0.30.1)\n",
      "Requirement already satisfied: filelock in /Users/obinnairrechukwu/anaconda3/envs/myLLMenv/lib/python3.11/site-packages (from torch>=1.13.0->peft==0.3.0) (3.15.4)\n",
      "Requirement already satisfied: typing-extensions>=4.8.0 in /Users/obinnairrechukwu/anaconda3/envs/myLLMenv/lib/python3.11/site-packages (from torch>=1.13.0->peft==0.3.0) (4.12.2)\n",
      "Requirement already satisfied: sympy in /Users/obinnairrechukwu/anaconda3/envs/myLLMenv/lib/python3.11/site-packages (from torch>=1.13.0->peft==0.3.0) (1.12.1)\n",
      "Requirement already satisfied: networkx in /Users/obinnairrechukwu/anaconda3/envs/myLLMenv/lib/python3.11/site-packages (from torch>=1.13.0->peft==0.3.0) (3.3)\n",
      "Requirement already satisfied: jinja2 in /Users/obinnairrechukwu/anaconda3/envs/myLLMenv/lib/python3.11/site-packages (from torch>=1.13.0->peft==0.3.0) (3.1.4)\n",
      "Requirement already satisfied: fsspec in /Users/obinnairrechukwu/anaconda3/envs/myLLMenv/lib/python3.11/site-packages (from torch>=1.13.0->peft==0.3.0) (2023.10.0)\n",
      "Requirement already satisfied: huggingface-hub in /Users/obinnairrechukwu/anaconda3/envs/myLLMenv/lib/python3.11/site-packages (from accelerate->peft==0.3.0) (0.26.5)\n",
      "Requirement already satisfied: safetensors>=0.3.1 in /Users/obinnairrechukwu/anaconda3/envs/myLLMenv/lib/python3.11/site-packages (from accelerate->peft==0.3.0) (0.4.3)\n",
      "Requirement already satisfied: regex!=2019.12.17 in /Users/obinnairrechukwu/anaconda3/envs/myLLMenv/lib/python3.11/site-packages (from transformers->peft==0.3.0) (2024.5.15)\n",
      "Requirement already satisfied: requests in /Users/obinnairrechukwu/anaconda3/envs/myLLMenv/lib/python3.11/site-packages (from transformers->peft==0.3.0) (2.32.3)\n",
      "Requirement already satisfied: tokenizers<0.20,>=0.19 in /Users/obinnairrechukwu/anaconda3/envs/myLLMenv/lib/python3.11/site-packages (from transformers->peft==0.3.0) (0.19.1)\n",
      "Requirement already satisfied: tqdm>=4.27 in /Users/obinnairrechukwu/anaconda3/envs/myLLMenv/lib/python3.11/site-packages (from transformers->peft==0.3.0) (4.66.4)\n",
      "Requirement already satisfied: MarkupSafe>=2.0 in /Users/obinnairrechukwu/anaconda3/envs/myLLMenv/lib/python3.11/site-packages (from jinja2->torch>=1.13.0->peft==0.3.0) (2.1.5)\n",
      "Requirement already satisfied: charset-normalizer<4,>=2 in /Users/obinnairrechukwu/anaconda3/envs/myLLMenv/lib/python3.11/site-packages (from requests->transformers->peft==0.3.0) (3.3.2)\n",
      "Requirement already satisfied: idna<4,>=2.5 in /Users/obinnairrechukwu/anaconda3/envs/myLLMenv/lib/python3.11/site-packages (from requests->transformers->peft==0.3.0) (3.7)\n",
      "Requirement already satisfied: urllib3<3,>=1.21.1 in /Users/obinnairrechukwu/anaconda3/envs/myLLMenv/lib/python3.11/site-packages (from requests->transformers->peft==0.3.0) (2.2.2)\n",
      "Requirement already satisfied: certifi>=2017.4.17 in /Users/obinnairrechukwu/anaconda3/envs/myLLMenv/lib/python3.11/site-packages (from requests->transformers->peft==0.3.0) (2024.6.2)\n",
      "Requirement already satisfied: mpmath<1.4.0,>=1.1.0 in /Users/obinnairrechukwu/anaconda3/envs/myLLMenv/lib/python3.11/site-packages (from sympy->torch>=1.13.0->peft==0.3.0) (1.3.0)\n",
      "Using cached peft-0.3.0-py3-none-any.whl (56 kB)\n",
      "Installing collected packages: peft\n",
      "Successfully installed peft-0.3.0\n"
     ]
    },
    {
     "name": "stderr",
     "output_type": "stream",
     "text": [
      "huggingface/tokenizers: The current process just got forked, after parallelism has already been used. Disabling parallelism to avoid deadlocks...\n",
      "To disable this warning, you can either:\n",
      "\t- Avoid using `tokenizers` before the fork if possible\n",
      "\t- Explicitly set the environment variable TOKENIZERS_PARALLELISM=(true | false)\n"
     ]
    },
    {
     "name": "stdout",
     "output_type": "stream",
     "text": [
      "Requirement already satisfied: sentence-transformers==3.1.0 in /Users/obinnairrechukwu/anaconda3/envs/myLLMenv/lib/python3.11/site-packages (3.1.0)\n",
      "Requirement already satisfied: transformers<5.0.0,>=4.38.0 in /Users/obinnairrechukwu/anaconda3/envs/myLLMenv/lib/python3.11/site-packages (from sentence-transformers==3.1.0) (4.41.2)\n",
      "Requirement already satisfied: tqdm in /Users/obinnairrechukwu/anaconda3/envs/myLLMenv/lib/python3.11/site-packages (from sentence-transformers==3.1.0) (4.66.4)\n",
      "Requirement already satisfied: torch>=1.11.0 in /Users/obinnairrechukwu/anaconda3/envs/myLLMenv/lib/python3.11/site-packages (from sentence-transformers==3.1.0) (2.3.1)\n",
      "Requirement already satisfied: numpy<2.0.0 in /Users/obinnairrechukwu/anaconda3/envs/myLLMenv/lib/python3.11/site-packages (from sentence-transformers==3.1.0) (1.26.4)\n",
      "Requirement already satisfied: scikit-learn in /Users/obinnairrechukwu/anaconda3/envs/myLLMenv/lib/python3.11/site-packages (from sentence-transformers==3.1.0) (1.5.2)\n",
      "Requirement already satisfied: scipy in /Users/obinnairrechukwu/anaconda3/envs/myLLMenv/lib/python3.11/site-packages (from sentence-transformers==3.1.0) (1.14.1)\n",
      "Requirement already satisfied: huggingface-hub>=0.19.3 in /Users/obinnairrechukwu/anaconda3/envs/myLLMenv/lib/python3.11/site-packages (from sentence-transformers==3.1.0) (0.26.5)\n",
      "Requirement already satisfied: Pillow in /Users/obinnairrechukwu/anaconda3/envs/myLLMenv/lib/python3.11/site-packages (from sentence-transformers==3.1.0) (10.4.0)\n",
      "Requirement already satisfied: filelock in /Users/obinnairrechukwu/anaconda3/envs/myLLMenv/lib/python3.11/site-packages (from huggingface-hub>=0.19.3->sentence-transformers==3.1.0) (3.15.4)\n",
      "Requirement already satisfied: fsspec>=2023.5.0 in /Users/obinnairrechukwu/anaconda3/envs/myLLMenv/lib/python3.11/site-packages (from huggingface-hub>=0.19.3->sentence-transformers==3.1.0) (2023.10.0)\n",
      "Requirement already satisfied: packaging>=20.9 in /Users/obinnairrechukwu/anaconda3/envs/myLLMenv/lib/python3.11/site-packages (from huggingface-hub>=0.19.3->sentence-transformers==3.1.0) (24.1)\n",
      "Requirement already satisfied: pyyaml>=5.1 in /Users/obinnairrechukwu/anaconda3/envs/myLLMenv/lib/python3.11/site-packages (from huggingface-hub>=0.19.3->sentence-transformers==3.1.0) (6.0.1)\n",
      "Requirement already satisfied: requests in /Users/obinnairrechukwu/anaconda3/envs/myLLMenv/lib/python3.11/site-packages (from huggingface-hub>=0.19.3->sentence-transformers==3.1.0) (2.32.3)\n",
      "Requirement already satisfied: typing-extensions>=3.7.4.3 in /Users/obinnairrechukwu/anaconda3/envs/myLLMenv/lib/python3.11/site-packages (from huggingface-hub>=0.19.3->sentence-transformers==3.1.0) (4.12.2)\n",
      "Requirement already satisfied: sympy in /Users/obinnairrechukwu/anaconda3/envs/myLLMenv/lib/python3.11/site-packages (from torch>=1.11.0->sentence-transformers==3.1.0) (1.12.1)\n",
      "Requirement already satisfied: networkx in /Users/obinnairrechukwu/anaconda3/envs/myLLMenv/lib/python3.11/site-packages (from torch>=1.11.0->sentence-transformers==3.1.0) (3.3)\n",
      "Requirement already satisfied: jinja2 in /Users/obinnairrechukwu/anaconda3/envs/myLLMenv/lib/python3.11/site-packages (from torch>=1.11.0->sentence-transformers==3.1.0) (3.1.4)\n",
      "Requirement already satisfied: regex!=2019.12.17 in /Users/obinnairrechukwu/anaconda3/envs/myLLMenv/lib/python3.11/site-packages (from transformers<5.0.0,>=4.38.0->sentence-transformers==3.1.0) (2024.5.15)\n",
      "Requirement already satisfied: tokenizers<0.20,>=0.19 in /Users/obinnairrechukwu/anaconda3/envs/myLLMenv/lib/python3.11/site-packages (from transformers<5.0.0,>=4.38.0->sentence-transformers==3.1.0) (0.19.1)\n",
      "Requirement already satisfied: safetensors>=0.4.1 in /Users/obinnairrechukwu/anaconda3/envs/myLLMenv/lib/python3.11/site-packages (from transformers<5.0.0,>=4.38.0->sentence-transformers==3.1.0) (0.4.3)\n",
      "Requirement already satisfied: joblib>=1.2.0 in /Users/obinnairrechukwu/anaconda3/envs/myLLMenv/lib/python3.11/site-packages (from scikit-learn->sentence-transformers==3.1.0) (1.4.2)\n",
      "Requirement already satisfied: threadpoolctl>=3.1.0 in /Users/obinnairrechukwu/anaconda3/envs/myLLMenv/lib/python3.11/site-packages (from scikit-learn->sentence-transformers==3.1.0) (3.5.0)\n",
      "Requirement already satisfied: MarkupSafe>=2.0 in /Users/obinnairrechukwu/anaconda3/envs/myLLMenv/lib/python3.11/site-packages (from jinja2->torch>=1.11.0->sentence-transformers==3.1.0) (2.1.5)\n",
      "Requirement already satisfied: charset-normalizer<4,>=2 in /Users/obinnairrechukwu/anaconda3/envs/myLLMenv/lib/python3.11/site-packages (from requests->huggingface-hub>=0.19.3->sentence-transformers==3.1.0) (3.3.2)\n",
      "Requirement already satisfied: idna<4,>=2.5 in /Users/obinnairrechukwu/anaconda3/envs/myLLMenv/lib/python3.11/site-packages (from requests->huggingface-hub>=0.19.3->sentence-transformers==3.1.0) (3.7)\n",
      "Requirement already satisfied: urllib3<3,>=1.21.1 in /Users/obinnairrechukwu/anaconda3/envs/myLLMenv/lib/python3.11/site-packages (from requests->huggingface-hub>=0.19.3->sentence-transformers==3.1.0) (2.2.2)\n",
      "Requirement already satisfied: certifi>=2017.4.17 in /Users/obinnairrechukwu/anaconda3/envs/myLLMenv/lib/python3.11/site-packages (from requests->huggingface-hub>=0.19.3->sentence-transformers==3.1.0) (2024.6.2)\n",
      "Requirement already satisfied: mpmath<1.4.0,>=1.1.0 in /Users/obinnairrechukwu/anaconda3/envs/myLLMenv/lib/python3.11/site-packages (from sympy->torch>=1.11.0->sentence-transformers==3.1.0) (1.3.0)\n"
     ]
    }
   ],
   "source": [
    "! pip install peft==0.3.0\n",
    "! pip install sentence-transformers==3.1.0"
   ]
  },
  {
   "cell_type": "code",
   "execution_count": 36,
   "metadata": {},
   "outputs": [
    {
     "name": "stderr",
     "output_type": "stream",
     "text": [
      "huggingface/tokenizers: The current process just got forked, after parallelism has already been used. Disabling parallelism to avoid deadlocks...\n",
      "To disable this warning, you can either:\n",
      "\t- Avoid using `tokenizers` before the fork if possible\n",
      "\t- Explicitly set the environment variable TOKENIZERS_PARALLELISM=(true | false)\n"
     ]
    },
    {
     "name": "stdout",
     "output_type": "stream",
     "text": [
      "Found existing installation: annoy 1.17.3\n",
      "Uninstalling annoy-1.17.3:\n",
      "  Successfully uninstalled annoy-1.17.3\n"
     ]
    },
    {
     "name": "stderr",
     "output_type": "stream",
     "text": [
      "huggingface/tokenizers: The current process just got forked, after parallelism has already been used. Disabling parallelism to avoid deadlocks...\n",
      "To disable this warning, you can either:\n",
      "\t- Avoid using `tokenizers` before the fork if possible\n",
      "\t- Explicitly set the environment variable TOKENIZERS_PARALLELISM=(true | false)\n"
     ]
    },
    {
     "name": "stdout",
     "output_type": "stream",
     "text": [
      "Collecting annoy\n",
      "  Using cached annoy-1.17.3-cp311-cp311-macosx_11_0_arm64.whl\n",
      "Installing collected packages: annoy\n",
      "Successfully installed annoy-1.17.3\n"
     ]
    }
   ],
   "source": [
    "# install annoy\n",
    "! pip uninstall annoy -y\n",
    "! pip install annoy"
   ]
  },
  {
   "cell_type": "code",
   "execution_count": 39,
   "metadata": {},
   "outputs": [
    {
     "name": "stderr",
     "output_type": "stream",
     "text": [
      "huggingface/tokenizers: The current process just got forked, after parallelism has already been used. Disabling parallelism to avoid deadlocks...\n",
      "To disable this warning, you can either:\n",
      "\t- Avoid using `tokenizers` before the fork if possible\n",
      "\t- Explicitly set the environment variable TOKENIZERS_PARALLELISM=(true | false)\n"
     ]
    },
    {
     "name": "stdout",
     "output_type": "stream",
     "text": [
      "Requirement already satisfied: peft in /Users/obinnairrechukwu/anaconda3/envs/myLLMenv/lib/python3.11/site-packages (0.3.0)\n",
      "Collecting peft\n",
      "  Using cached peft-0.14.0-py3-none-any.whl.metadata (13 kB)\n",
      "Requirement already satisfied: numpy>=1.17 in /Users/obinnairrechukwu/anaconda3/envs/myLLMenv/lib/python3.11/site-packages (from peft) (1.26.4)\n",
      "Requirement already satisfied: packaging>=20.0 in /Users/obinnairrechukwu/anaconda3/envs/myLLMenv/lib/python3.11/site-packages (from peft) (24.1)\n",
      "Requirement already satisfied: psutil in /Users/obinnairrechukwu/anaconda3/envs/myLLMenv/lib/python3.11/site-packages (from peft) (5.9.0)\n",
      "Requirement already satisfied: pyyaml in /Users/obinnairrechukwu/anaconda3/envs/myLLMenv/lib/python3.11/site-packages (from peft) (6.0.1)\n",
      "Requirement already satisfied: torch>=1.13.0 in /Users/obinnairrechukwu/anaconda3/envs/myLLMenv/lib/python3.11/site-packages (from peft) (2.3.1)\n",
      "Requirement already satisfied: transformers in /Users/obinnairrechukwu/anaconda3/envs/myLLMenv/lib/python3.11/site-packages (from peft) (4.41.2)\n",
      "Requirement already satisfied: tqdm in /Users/obinnairrechukwu/anaconda3/envs/myLLMenv/lib/python3.11/site-packages (from peft) (4.66.4)\n",
      "Requirement already satisfied: accelerate>=0.21.0 in /Users/obinnairrechukwu/anaconda3/envs/myLLMenv/lib/python3.11/site-packages (from peft) (0.30.1)\n",
      "Requirement already satisfied: safetensors in /Users/obinnairrechukwu/anaconda3/envs/myLLMenv/lib/python3.11/site-packages (from peft) (0.4.3)\n",
      "Requirement already satisfied: huggingface-hub>=0.25.0 in /Users/obinnairrechukwu/anaconda3/envs/myLLMenv/lib/python3.11/site-packages (from peft) (0.26.5)\n",
      "Requirement already satisfied: filelock in /Users/obinnairrechukwu/anaconda3/envs/myLLMenv/lib/python3.11/site-packages (from huggingface-hub>=0.25.0->peft) (3.15.4)\n",
      "Requirement already satisfied: fsspec>=2023.5.0 in /Users/obinnairrechukwu/anaconda3/envs/myLLMenv/lib/python3.11/site-packages (from huggingface-hub>=0.25.0->peft) (2023.10.0)\n",
      "Requirement already satisfied: requests in /Users/obinnairrechukwu/anaconda3/envs/myLLMenv/lib/python3.11/site-packages (from huggingface-hub>=0.25.0->peft) (2.32.3)\n",
      "Requirement already satisfied: typing-extensions>=3.7.4.3 in /Users/obinnairrechukwu/anaconda3/envs/myLLMenv/lib/python3.11/site-packages (from huggingface-hub>=0.25.0->peft) (4.12.2)\n",
      "Requirement already satisfied: sympy in /Users/obinnairrechukwu/anaconda3/envs/myLLMenv/lib/python3.11/site-packages (from torch>=1.13.0->peft) (1.12.1)\n",
      "Requirement already satisfied: networkx in /Users/obinnairrechukwu/anaconda3/envs/myLLMenv/lib/python3.11/site-packages (from torch>=1.13.0->peft) (3.3)\n",
      "Requirement already satisfied: jinja2 in /Users/obinnairrechukwu/anaconda3/envs/myLLMenv/lib/python3.11/site-packages (from torch>=1.13.0->peft) (3.1.4)\n",
      "Requirement already satisfied: regex!=2019.12.17 in /Users/obinnairrechukwu/anaconda3/envs/myLLMenv/lib/python3.11/site-packages (from transformers->peft) (2024.5.15)\n",
      "Requirement already satisfied: tokenizers<0.20,>=0.19 in /Users/obinnairrechukwu/anaconda3/envs/myLLMenv/lib/python3.11/site-packages (from transformers->peft) (0.19.1)\n",
      "Requirement already satisfied: MarkupSafe>=2.0 in /Users/obinnairrechukwu/anaconda3/envs/myLLMenv/lib/python3.11/site-packages (from jinja2->torch>=1.13.0->peft) (2.1.5)\n",
      "Requirement already satisfied: charset-normalizer<4,>=2 in /Users/obinnairrechukwu/anaconda3/envs/myLLMenv/lib/python3.11/site-packages (from requests->huggingface-hub>=0.25.0->peft) (3.3.2)\n",
      "Requirement already satisfied: idna<4,>=2.5 in /Users/obinnairrechukwu/anaconda3/envs/myLLMenv/lib/python3.11/site-packages (from requests->huggingface-hub>=0.25.0->peft) (3.7)\n",
      "Requirement already satisfied: urllib3<3,>=1.21.1 in /Users/obinnairrechukwu/anaconda3/envs/myLLMenv/lib/python3.11/site-packages (from requests->huggingface-hub>=0.25.0->peft) (2.2.2)\n",
      "Requirement already satisfied: certifi>=2017.4.17 in /Users/obinnairrechukwu/anaconda3/envs/myLLMenv/lib/python3.11/site-packages (from requests->huggingface-hub>=0.25.0->peft) (2024.6.2)\n",
      "Requirement already satisfied: mpmath<1.4.0,>=1.1.0 in /Users/obinnairrechukwu/anaconda3/envs/myLLMenv/lib/python3.11/site-packages (from sympy->torch>=1.13.0->peft) (1.3.0)\n",
      "Using cached peft-0.14.0-py3-none-any.whl (374 kB)\n",
      "Installing collected packages: peft\n",
      "  Attempting uninstall: peft\n",
      "    Found existing installation: peft 0.3.0\n",
      "    Uninstalling peft-0.3.0:\n",
      "      Successfully uninstalled peft-0.3.0\n",
      "Successfully installed peft-0.14.0\n"
     ]
    }
   ],
   "source": [
    "! pip install --upgrade peft"
   ]
  },
  {
   "cell_type": "code",
   "execution_count": 45,
   "metadata": {},
   "outputs": [
    {
     "name": "stderr",
     "output_type": "stream",
     "text": [
      "huggingface/tokenizers: The current process just got forked, after parallelism has already been used. Disabling parallelism to avoid deadlocks...\n",
      "To disable this warning, you can either:\n",
      "\t- Avoid using `tokenizers` before the fork if possible\n",
      "\t- Explicitly set the environment variable TOKENIZERS_PARALLELISM=(true | false)\n"
     ]
    },
    {
     "name": "stdout",
     "output_type": "stream",
     "text": [
      "Name: peft\n",
      "Version: 0.3.0\n",
      "Summary: Parameter-Efficient Fine-Tuning (PEFT)\n",
      "Home-page: https://github.com/huggingface/peft\n",
      "Author: The HuggingFace team\n",
      "Author-email: sourab@huggingface.co\n",
      "License: Apache\n",
      "Location: /Users/obinnairrechukwu/anaconda3/envs/myLLMenv/lib/python3.11/site-packages\n",
      "Requires: accelerate, numpy, packaging, psutil, pyyaml, torch, transformers\n",
      "Required-by: \n"
     ]
    }
   ],
   "source": [
    "! pip show peft"
   ]
  },
  {
   "cell_type": "code",
   "execution_count": 11,
   "metadata": {},
   "outputs": [],
   "source": [
    "from sentence_transformers import SentenceTransformer\n",
    "import numpy as np\n",
    "from annoy import AnnoyIndex\n",
    "\n",
    "def setup_sentence_transformer_matcher(keyword_list):\n",
    "    # Load the model\n",
    "    model = SentenceTransformer('sentence-transformers/all-MiniLM-L6-v2')\n",
    "    \n",
    "    keyword_sentences = [f\"symptoms of {keyword.lower()}\" for keyword in keyword_list]\n",
    "    keyword_vectors = model.encode(keyword_sentences)\n",
    "    \n",
    "    # Setup Annoy index\n",
    "    vector_dimension = keyword_vectors.shape[1]  # Get dimensionality from the model output\n",
    "    index = AnnoyIndex(vector_dimension, 'angular')\n",
    "    \n",
    "    for i, vec in enumerate(keyword_vectors):\n",
    "        index.add_item(i, vec)\n",
    "    index.build(10)\n",
    "    \n",
    "    return model, index, keyword_vectors\n",
    "\n",
    "def map_sentence_to_keywords_transformer(model, index, keyword_list, sentence, top_n=3):\n",
    "    # Convert input to proper sentence format\n",
    "    input_sentence = f\"patient describes symptoms: {sentence.lower()}\"\n",
    "    \n",
    "    # Get embedding for the sentence\n",
    "    sentence_vector = model.encode(input_sentence)\n",
    "    \n",
    "    # Find nearest neighbors\n",
    "    nearest = index.get_nns_by_vector(sentence_vector, top_n)\n",
    "    return [keyword_list[i] for i in nearest]\n",
    "\n",
    "\n",
    "#keyword_list = ['Bruising', 'Hemolytic anemia', 'Iron-deficiency Anemia', 'Spina bifida', 'Ariboflavinosis', 'Tremors', 'Skin irritation', 'Cardiovascular Disease', 'Heart Disease', 'Hypomagnesemia', 'Difficulty concentrating', 'Liver damage', 'Bleeding gums', 'Inflammatory disorders', 'Parkinson s Disease', 'Preeclampsia', 'Swollen gums', 'Tissue fragility', 'Abdominal Pain', 'Oxidative stress', 'Fatigue', 'Depressed Mood', 'Chest pain', 'Magnesium Deficiency', 'Joint pain', 'Increased oxidative stress', 'Cognitive Impairment', 'Thrombus formation', 'Coronary heart disease', 'Reduced bone mass', 'Pale skin', 'Deficiency can lead to neurological disorders', 'Zinc Deficiency', 'Clostridium difficile infection', 'Hair Loss', 'Abdominal Cramps', 'Antibiotic-associated diarrhea', 'Migraine', 'Alzheimer s disease', 'Cell proliferation', 'Loss of height', 'Osteoporosis', 'Airway inflammation', 'Poor bioavailability of tocotrienol', 'Dysmenorrhea', 'Menstrual Pain', 'Sensitivity to light', 'Neurological disorders', 'Asthma', 'Blindness', 'Neurodevelopmental Disorders', 'Anemia', 'Cognitive Decline', 'Delayed wound healing', 'Headache', 'Difficulty seeing in low light', 'High blood pressure', 'Beriberi', 'Bleeding Gums', 'Premenstrual Syndrome (PMS)', 'Weight gain', 'Tiredness', 'Muscle cramps', 'Bradykinesia', 'Protein in urine', 'Proinflammatory cytokines production', 'Behavioral Issues', 'Dry eyes', 'Irritability', 'Insulin resistance', 'Traumatic brain injury', 'Not available', 'Major Depression', 'Cardiac arrhythmias', 'Increased risk of atherosclerosis', 'Muscle Weakness', 'Depression', 'Vitamin A Deficiency', 'Dry Skin', 'Neural tube defects', 'Scurvy', 'Cognitive decline', 'Vision problems', 'Insulin Resistance', 'N/A', 'Increased fragility', 'Mood swings', 'Weakened immune system', 'High blood sugar levels', 'Anencephaly', 'Muscle weakness', 'Diarrhea', 'Capillary fragility', 'Xerophthalmia', 'Anxiety and Depression', 'Shortness of breath', 'Atheromas formation', 'Heart-related symptoms', 'Bone pain', 'Decreased bone density', 'Numbness', 'Vision Problems', 'Inflammatory Diseases', 'Hypomagnesaemia', 'Bloating', 'Atherosclerosis', 'Metabolic Syndrome', 'Back pain', 'Alzheimer s Disease', 'Night blindness', 'Parkinson s disease', 'Essential Fatty Acid Deficiency', 'Hair loss', 'Asymptomatic', 'Anxiety', 'Swelling', 'Swollen mucous membranes', 'Disease caused by deficiencies of the nutrient', 'Osteoarthritis', 'Memory loss', 'Vitamin E Deficiency', 'Poor healing', 'Clinical features', 'Weakness', 'Nausea', 'Not specified', 'Sore throat', 'Bone fractures', 'Irritable bowel syndrome', 'Allergic disorders', 'Nerve damage']\n",
    "\n",
    "keyword_list = ['weakened immune system', 'vision problems', 'neurological problems', 'muscle weakness',\n",
    "                'weakness and muscle damage', 'anemia', 'impaired immune response',\n",
    "                'oxidative degradation', 'nerve damage', 'poor vision', 'dry skin', 'increased susceptibility to infections',\n",
    "                'xerophthalmia', 'clinical ophthalmic signs of vitamin A deficiency', 'severe VAD', \n",
    "                'depression', 'nervosness', 'irritability', 'sideroblastic microcytic anemia', 'seizures',\n",
    "                'peripheral neuropathy', 'dermatologic lesions', 'megaloblastic anemia', 'neropathy', 'memory loss',\n",
    "                'nausea and vomiting', 'migraine', 'insulin resistance', 'hypocalcemia', 'thrombosis',\n",
    "                'cardiovascular complications', 'impaired T cell activation and increased risk of hematologic malignancies',\n",
    "                'cognitive decline', 'abnormal health rhythms', 'mild anxiety', 'sleep disorders', 'fatigue and weakness',\n",
    "                'hypernatremia', 'confusion', 'numbness or tingling in extremities', 'sporadic hair loss', 'loss of muscle mass']\n",
    "model, index, keyword_vectors = setup_sentence_transformer_matcher(keyword_list)\n",
    "\n"
   ]
  },
  {
   "cell_type": "code",
   "execution_count": 48,
   "metadata": {},
   "outputs": [],
   "source": [
    "from peft import PeftModel, LoraConfig"
   ]
  },
  {
   "cell_type": "code",
   "execution_count": 50,
   "metadata": {},
   "outputs": [
    {
     "ename": "ImportError",
     "evalue": "cannot import name 'PeftModelForFeatureExtraction' from 'peft' (/Users/obinnairrechukwu/anaconda3/envs/myLLMenv/lib/python3.11/site-packages/peft/__init__.py)",
     "output_type": "error",
     "traceback": [
      "\u001b[0;31m---------------------------------------------------------------------------\u001b[0m",
      "\u001b[0;31mImportError\u001b[0m                               Traceback (most recent call last)",
      "Cell \u001b[0;32mIn[50], line 1\u001b[0m\n\u001b[0;32m----> 1\u001b[0m \u001b[38;5;28;01mfrom\u001b[39;00m \u001b[38;5;21;01mpeft\u001b[39;00m \u001b[38;5;28;01mimport\u001b[39;00m PeftModelForFeatureExtraction\n",
      "\u001b[0;31mImportError\u001b[0m: cannot import name 'PeftModelForFeatureExtraction' from 'peft' (/Users/obinnairrechukwu/anaconda3/envs/myLLMenv/lib/python3.11/site-packages/peft/__init__.py)"
     ]
    }
   ],
   "source": [
    "from peft import PeftModelForFeatureExtraction"
   ]
  },
  {
   "cell_type": "code",
   "execution_count": 12,
   "metadata": {},
   "outputs": [
    {
     "name": "stdout",
     "output_type": "stream",
     "text": [
      "Time taken: 78.0156569480896\n",
      "['weakness and muscle damage', 'muscle weakness', 'fatigue and weakness']\n"
     ]
    }
   ],
   "source": [
    "\n",
    "# sentence = \"\"\"I've been feeling a bit off lately. I'm experiencing a lot of muscle weakness, \n",
    "#               especially in my legs. Sometimes, I even have trouble walking without stumbling. \n",
    "#               My reflexes seem slower than usual, and I've noticed some numbness and tingling \n",
    "#               in my hands and feet. I've also been feeling a bit lightheaded, and my vision \n",
    "#               seems a little blurry.\"\"\"\n",
    "\n",
    "\n",
    "start_time = time.time()\n",
    "for i in range(10000):\n",
    "    mapped_keywords = map_sentence_to_keywords_transformer(model, index, keyword_list, sentence)\n",
    "end_time = time.time()\n",
    "print(\"Time taken:\", end_time - start_time) \n",
    "print(mapped_keywords)"
   ]
  },
  {
   "cell_type": "code",
   "execution_count": null,
   "metadata": {},
   "outputs": [],
   "source": []
  },
  {
   "cell_type": "code",
   "execution_count": 3,
   "metadata": {},
   "outputs": [
    {
     "name": "stderr",
     "output_type": "stream",
     "text": [
      "/Users/obinnairrechukwu/anaconda3/envs/myLLMenv/lib/python3.11/site-packages/fuzzywuzzy/fuzz.py:11: UserWarning: Using slow pure-python SequenceMatcher. Install python-Levenshtein to remove this warning\n",
      "  warnings.warn('Using slow pure-python SequenceMatcher. Install python-Levenshtein to remove this warning')\n"
     ]
    }
   ],
   "source": [
    "from neo4j import GraphDatabase\n",
    "from typing import Dict, Any, List\n",
    "from fuzzywuzzy import process"
   ]
  },
  {
   "cell_type": "code",
   "execution_count": 6,
   "metadata": {},
   "outputs": [
    {
     "name": "stdout",
     "output_type": "stream",
     "text": [
      "Keywords: ['vulnerabiity to infections', 'Weakened immune system', 'Neurological problems', 'vision problems', 'Increased risk of cardiovascular diseases', 'Impaired immune function', 'Anemia', 'Vision problems', 'Muscle weakness', 'Weakness and muscle damage', 'Inflammation', 'Oxidative stress', 'Increased risk of atherosclerosis', 'Impaired immune response', 'Increase risk of cardiovascular diseases', 'Neurological issues', 'muscle weakness', 'vulnerability to infections', 'Oxidative degradation', 'Increased risk of oxidative stress-related diseases', 'increased levels of plasma phospholipid hydroperoxide', 'musle weakness', 'Increased risk of oxidative stress', 'Night blindness', 'Increased susceptibility to infections', 'night blindness', 'increased susceptibility to infections', 'Dry skin', 'accumulation of unbound apo-RBP in the liver', 'increased risk of Vitamin A deficiency (VAD)', 'Increased risk of cardiovascular disease', 'Nerve damage', 'No significant correlation between vitamin E supplementation and ischemic CVD incidence', 'No significant association between vitamin E intake and mortality from total stroke, coronary heart disease, and CVD', 'Weak immune system', 'Poor vision', 'increased oxidative stress', 'not mentioned in the provided text', 'Increased risk of inflammation and cancer', 'Clinical ophthalmic signs', 'Low circulating plasma retinol concentrations', 'increased risk of Vitamin A deficiency', 'Impaired growth and development', 'Xerophthalmia (dry eyes)', 'Increased risk of heart failure', 'No significant improvement in cardiovascular outcomes', 'No significant relation to total mortality in high cardiovascular risk', 'Increase in oxidative stress', 'Clinical ophthalmic signs of vitamin A deficiency', 'severe VAD', 'unbound apo-RBP accumulation in the liver', 'Weakness', 'oxidative stress-related issues', 'potential tissue-specific deficiencies', 'oxidative degradation', 'depression, nervousness, impaired immune response, irritability', 'sideroblastic microcytic anemia, seizures, peripheral neuropathy', 'low PLP concentrations in cerebrospinal fluid, neonatal epileptic encephalopathy', 'Neurological symptoms like sensory ataxic neuropathy', 'Dermatologic lesions', 'Megaloblastic anemia', 'Neuropathy', 'Depression or memory loss', 'Cognitive decline', 'Cognitive issues', 'Vitamin B12 deficiency', 'Increased risk of excessive bleeding', 'Poor bone health', 'Increased risk of bleeding', 'Impaired bone health', 'Impaired blood clotting', 'Increased risk of fractures', 'Excessive bleeding', 'increased risk of bleeding', 'poor bone health', 'Potential bone health issues', 'Decreased bone density', 'Impaired bone metabolism', 'Enhanced vascular calcification', 'Weakened bones', 'Osteoporosis', 'Pathological fractures', 'Vascular calcifications', 'Vascular calcification', 'Inflammatory conditions', 'Osteoporotic fractures', 'Weakened bones (osteomalacia)', 'bone pain and muscle weakness', 'increased risk of fractures', 'Weakened bones (osteomalacia or rickets)', 'Increased risk of infections', 'Bone loss', 'Weakened bones (osteoporosis)', 'hypovitaminosis D', 'Increase risk of fractures', 'Weakened bones and increased risk of fractures', 'bone loss', 'increased risk of falls and fractures', 'life-threatening cardiac arrhythmias', 'Weakness and fatigue', 'Muscle cramps', 'fatigue', 'irregular heartbeat', 'Fatigue', 'Irregular heartbeat', 'Increased risk of high blood pressure', 'Hypertension', 'increased risk of high blood pressure', 'Risk of hypertension', 'Increased vasoconstrictive sensitivity', 'High blood pressure', 'Risk of illness and chronic degenerative diseases', 'Hypomagnesemia', 'Muscle cramps and weakness', 'Nausea and vomiting', 'Neurological disorders like migraine and epilepsy', 'Bone loss and decline in bone formation', 'Increased NMDA receptor activity leading to anxiety and depression', 'Insulin resistance', 'Type 2 diabetes mellitus', 'Poor DNA repair mechanisms', 'Increased risk of DNA mutations and carcinogenesis', 'Impaired RNA synthesis and transcription', 'brittle bones', 'increased fracture risk', 'inflammatory syndrome', 'Hyperexcitability of neurons', 'Increased release of substance P, a neuroinflammatory agent', 'muscle cramps', 'Muscle soreness', 'Decreased ATP availability', 'Increased risk of skeletal muscle cramps', 'Hypocalcemia', 'Resistance to pharmacological doses of vitamin D', 'Tiredness and fatigue', 'Electrolyte imbalance', 'Impaired muscle function', 'Weak bones and teeth', 'Diarrhea', 'Laxative effects', 'hypocalcemia', 'hypokalemia', 'osteoporosis', 'cardiovascular disorders', 'neurological disorders', 'diabetes', 'tumors', 'Covid-19', 'diarrhea, nausea, and vomiting', 'low blood pressure', 'loss of deep tendon reflexes', 'Sinoatrial or atrioventricular node blocks', 'respiratory paralysis', 'cardiac arrest', 'Increased insulin resistance', 'Coronary artery spasms', 'Heart attack', 'Cardiac arrhythmia', 'Atherosclerosis', 'Thrombosis', 'Cardiovascular complications', 'Increased risk of cancer', 'increased risk of colorectal cancer', 'higher viral load of Epstein Barr virus', 'impaired T cell activation and increased risk of hematologic malignancies', 'Migraines', 'Depression', 'neurological impairments', 'cognitive decline', \"increased risk of Alzheimer's and Parkinson's diseases\", 'Subclinical magnesium deficiency', 'Impact on different physiological functions', 'Disturbances in carbohydrate metabolism', 'Increased risk of neurological disorders', 'Fatigue and muscle weakness', 'Abnormal heart rhythms', 'Irritability', 'Mild anxiety', 'Headache', 'Muscular weakness', 'Cardiovascular abnormalities', 'Increased risk of type 2 diabetes and osteoporosis', 'Neuronal hyperactivity', 'Impairment of key systems controlling the stress response', 'Sleep disorders', 'increased susceptibility to stress disorders', 'magnesium depletion', 'Fatigue and weakness', 'Muscle cramps and spasms', 'Hypernatremia', 'Neuronal damage', 'Central nervous system dysfunction', 'Death', 'Hyponatremia (low blood sodium)', 'Dehydration', 'Confusion', 'Hyponatremia (low sodium levels)', 'Hyponatremia', 'Electrolyte imbalances', 'Accumulation of unbound apo-RBP in the liver', 'Increased risk of Vitamin A deficiency (VAD)', 'Impaired keratinocyte differentiation', 'Skin diseases like psoriasis and atopic dermatitis', 'Numbness or tingling in extremities', 'impaired keratinocyte differentiation', 'weakened skin barrier', 'Impaired keratinocyte differentiation and proliferation', 'Sporadic hair loss', 'Not specified in the article', 'Muscle atrophy', 'Loss of muscle mass', 'Decreased bone mineral density', 'Increased risk of osteoporosis', 'Delayed growth and development in children', 'Cardiac hypertrophy', 'Weakened bones and teeth', 'Numbness and tingling in extremities']\n",
      "Mapped Keywords: ['Increased risk of oxidative stress-related diseases', 'increased levels of plasma phospholipid hydroperoxide', 'No significant correlation between vitamin E supplementation and ischemic CVD incidence']\n",
      "Nutrients: [['Vitamin E', ['https://pubmed.ncbi.nlm.nih.gov/30681767/'], ['Tocopherols and tocotrienols', 'Almonds', 'Sunflower seeds', 'Spinach', 'Avocado', 'vegetable oils', 'barley', 'oat', 'palm oil', 'rice bran', 'rye', 'wheat germ', 'fruits', 'seafood', 'cheese', 'eggs', 'Alpha-tocopherol', 'Vitamin E-containing foods like nuts, seeds, and vegetable oils', 'Nuts and seeds', 'Vegetable oils', 'Green leafy vegetables', 'Sweet potato', 'Tocopherols', 'Tocotrienols', 'wheat germ oil', 'nuts and seeds', 'green leafy vegetables', 'Sunflower oil', 'rice bran oil', 'tocotrienol', 'tocopherol', 'α-TocH', 'α-tocotrienol', 'γ-tocotrienol', 'δ-tocotrienol', 'Hevea latex', 'Palm tocotrienol', 'nuts', 'Gamma-tocotrienol', 'Delta-tocotrienol', 'Palm, olive, or sunflower oil', 'Alpha-Tocopherol', 'Beta-Carotene', 'Vitamin C', 'Vitamin A', 'Rice bran', 'Palm-tocotrienol', 'Red meat', 'tocotrienol-containing food', '2% fat milk', 'Wheat germ oil', 'α-Tocopherol', 'Gamma-tocopherol', 'Delta-tocopherol', 'tocopherol mixture', 'Astaxanthin'], ['15 mg per day for adults', '19 mg for breastfeeding women', '9.2μmol (4 mg)', '10 mg of rice bran oil containing tocotrienol', '15 mg for adults', '400-800 mg/dL of α-tocopherol', '800 mg/dL of α-tocopherol for patients with chronic kidney disease', 'No specific daily intake recommendation provided', '19 mg for pregnant women', '10 mg of rice bran oil containing tocotrienols', '10 mg/kg body weight', '29.5 mg/kg body weight', '10 mg of rice bran oil containing tocotrienols and tocopherols'], ['Role in disease prevention and therapy', 'anti-cardiovascular', 'anti-atherogenic', 'anti-inflammatory', 'anti-obesity', 'anti-allergic', 'neuroprotective', 'modulation of telomerase activities', 'Prevention of free radical damage', 'Regulation of key cellular and molecular mechanisms', 'Prevention of cardiovascular disease', 'anti-lipidemic', 'anti-hypertensive', 'Regulates signaling pathways and gene expression', 'Modulates cell properties such as signal transduction, cell proliferation, and immunity', 'Reduces atherosclerotic lesion size', 'Attenuates progression of atherosclerosis', 'Decreases cholesterol-induced atherosclerotic lesions', 'Protects against development of atherosclerosis', 'Reduces mortality due to acute myocardial infarction', 'Prevents cholesterol-mediated cardiomyocyte damage', 'Reduces risk of cardiovascular disease', 'Protects against coronary heart disease', 'Improves myocardial health', 'Reduction of coronary heart disease', 'Reduced risk of myocardial infarction', 'Prevention against coronary heart disease', 'Anti-inflammatory properties', 'Anti-oxidative effects', 'Reduction in atherosclerosis development', 'Protection against lipotoxicity', 'Reduces the uptake of oxidized LDL', 'Inhibits CD36 scavenger receptor expression', 'Ameliorates foam cells formation', 'Prevention and treatment of atherosclerosis and related cardiovascular disease', 'Cardioprotective agent against ageing-associated cardiovascular disease', 'Antioxidant properties', 'Supports immune function', 'Protects against cardiovascular disease', 'antioxidative effects', 'regulation of redox balance', 'essential for survival', 'Antioxidative activities', 'Physiological mechanisms mediated by human serum albumin (HSA)', 'Acts as an antioxidant', 'Protects cells from damage', 'Protects cell membranes from lipid peroxidation', 'May help prevent diseases like arteriosclerosis, cancer, and diabetes', 'Suppresses LDL lipid oxidation', 'inhibitory effect on lipid peroxidation', 'non-antioxidant functions in cell membranes', 'Stabilizes membrane', 'Prevents stroke-related neurodegeneration', 'Inhibits NF-κB pathway', 'Prevents angiogenesis', 'antioxidant properties', 'anti-inflammatory effects', 'cardioprotective benefits', 'potential anticancer effects', 'anti-diabetic', 'anti-cancer', 'Antioxidant activity', 'Neuroprotection', 'Anti-inflammatory effects', 'Preventive effects on cardiovascular disease', 'Regulates cell properties such as signal transduction, cell proliferation, and gene expression', 'Protects against cardiovascular diseases such as atherosclerosis, ischemia/reperfusion, and heart failure', 'Protects against acute myocardial infarction', 'Reduces apoptotic activity in cardiomyocytes', 'Reduction in risk of coronary heart disease', 'Protection against other cardiovascular complications', 'Reduced biomarkers of oxidative stress', 'Anti-inflammatory roles', 'Anti-oxidative roles', 'Inhibitory effect against oxLDL formation', 'May reduce the risk of heart disease', 'neuronal protection', 'distribution to adipose tissue', 'antioxidative activities', 'Cardioprotective benefits', 'Anti-cancer potential', 'Regulates signaling pathways', 'Modulates transcription factors', 'Modulates signal transduction proteins/enzymes', 'Reduction of atherosclerotic lesion size', 'Prevention of cholesterol-induced atherosclerotic lesions', 'Reduction of apoptotic activity in cardiomyocytes', 'Inhibition of oxLDL formation', 'Cardioprotective agent against aging-associated cardiovascular disease', 'Protects against heart disease', 'Helps prevent LDL lipid oxidation', 'Preventive cardiovascular effects', 'Regulation of signaling pathways', 'Modulation of transcription factors', 'Cellular responses including survival, inflammation, migration, secretion, and immunity', 'Protection against heart failure', 'Improved myocardial health', 'Reduction of myocardial infarction risk', 'Cardioprotective effects against aging-associated cardiovascular disease', 'non-antioxidant functions such as changing physical properties of cell membranes']]]\n"
     ]
    }
   ],
   "source": [
    "class NutrientGraphManager:\n",
    "\n",
    "    def __init__(self, uri: str, username: str, password: str):\n",
    "        \"\"\"Initialize the Neo4j connection.\"\"\"\n",
    "        self.driver = GraphDatabase.driver(uri, auth=(username, password))\n",
    "\n",
    "    def close(self):\n",
    "        \"\"\"Close the Neo4j connection.\"\"\"\n",
    "        self.driver.close()\n",
    "          \n",
    "    # fetch symptoms in Neo4j database\n",
    "    def fetch_symptoms(self):\n",
    "        \"\"\"Clear all nodes and relationships in the database.\"\"\"\n",
    "        with self.driver.session() as session:\n",
    "            symptoms_fetched = session.run(\"MATCH (s:Symptom) RETURN COLLECT(s.name)\").values()[0][0]\n",
    "            return symptoms_fetched\n",
    "        \n",
    "    # fetch nutrients in Neo4j database\n",
    "    def fetch_nutrients(self, keywords):\n",
    "        \"\"\"Clear all nodes and relationships in the database.\"\"\"\n",
    "        with self.driver.session() as session:\n",
    "            nutrients_fetched = session.run(\"\"\"MATCH (n:Vitamin)-[:HAS_CATEGORY]->(cat:SymptomCategory)-[:INCLUDES]->(s:Symptom)\n",
    "            MATCH (n)-[:HAS_CATEGORY]->(scat:SourceCategory)-[:INCLUDES]->(sc:Source)\n",
    "            MATCH (n)-[:HAS_CATEGORY]->(dc:DailyIntakeCategory)-[:INCLUDES]->(d:Daily_intake_recommendation)\n",
    "            MATCH (n)-[:HAS_CATEGORY]->(bc:BenefitCategory)-[:INCLUDES]->(b:Benefit)\n",
    "            WHERE s.name IN $keywords\n",
    "            RETURN n.name AS Nutrient, COLLECT(DISTINCT n.paper_source) AS Paper_Source, COLLECT(DISTINCT sc.name) AS Source,\n",
    "            COLLECT(DISTINCT d.name) AS Daily_Intake, COLLECT(DISTINCT b.name) AS Benefit \"\"\", keywords=keywords).values()\n",
    "            return nutrients_fetched\n",
    "\n",
    "def map_sentence_to_keywords_fuzzy(keyword_list, sentence, top_n=3):\n",
    "    matches = process.extract(sentence, keyword_list, limit=top_n)\n",
    "    return [match[0] for match in matches]\n",
    "\n",
    "def main():\n",
    "    URI = \"neo4j://localhost:7687\"  \n",
    "    USERNAME = \"neo4j\"              \n",
    "    PASSWORD = \"obinutriproject\"     \n",
    "\n",
    "    graph_manager = NutrientGraphManager(URI, USERNAME, PASSWORD)\n",
    "\n",
    "    try:\n",
    "        keywords = graph_manager.fetch_symptoms()    \n",
    "        print(\"Keywords:\", keywords)\n",
    "        user_symptom = input(\"Enter your symptom: \")\n",
    "        mapped_keywords = map_sentence_to_keywords_fuzzy(keywords, user_symptom)\n",
    "        print(\"Mapped Keywords:\", mapped_keywords)\n",
    "\n",
    "        nutrients = graph_manager.fetch_nutrients(mapped_keywords)\n",
    "        print(\"Nutrients:\", nutrients)\n",
    "    except Exception as e:\n",
    "        print(f\"Error occurred: {str(e)}\")\n",
    "    finally:\n",
    "        graph_manager.close()\n",
    "\n",
    "if __name__ == \"__main__\":\n",
    "    main()"
   ]
  },
  {
   "cell_type": "code",
   "execution_count": null,
   "metadata": {},
   "outputs": [],
   "source": []
  },
  {
   "cell_type": "code",
   "execution_count": 1,
   "metadata": {},
   "outputs": [
    {
     "name": "stdout",
     "output_type": "stream",
     "text": [
      "Collecting ollama\n",
      "  Downloading ollama-0.4.4-py3-none-any.whl.metadata (4.7 kB)\n",
      "Requirement already satisfied: httpx<0.28.0,>=0.27.0 in /Users/obinnairrechukwu/anaconda3/envs/myLLMenv/lib/python3.11/site-packages (from ollama) (0.27.0)\n",
      "Collecting pydantic<3.0.0,>=2.9.0 (from ollama)\n",
      "  Downloading pydantic-2.10.3-py3-none-any.whl.metadata (172 kB)\n",
      "Requirement already satisfied: anyio in /Users/obinnairrechukwu/anaconda3/envs/myLLMenv/lib/python3.11/site-packages (from httpx<0.28.0,>=0.27.0->ollama) (4.4.0)\n",
      "Requirement already satisfied: certifi in /Users/obinnairrechukwu/anaconda3/envs/myLLMenv/lib/python3.11/site-packages (from httpx<0.28.0,>=0.27.0->ollama) (2024.6.2)\n",
      "Requirement already satisfied: httpcore==1.* in /Users/obinnairrechukwu/anaconda3/envs/myLLMenv/lib/python3.11/site-packages (from httpx<0.28.0,>=0.27.0->ollama) (1.0.5)\n",
      "Requirement already satisfied: idna in /Users/obinnairrechukwu/anaconda3/envs/myLLMenv/lib/python3.11/site-packages (from httpx<0.28.0,>=0.27.0->ollama) (3.7)\n",
      "Requirement already satisfied: sniffio in /Users/obinnairrechukwu/anaconda3/envs/myLLMenv/lib/python3.11/site-packages (from httpx<0.28.0,>=0.27.0->ollama) (1.3.1)\n",
      "Requirement already satisfied: h11<0.15,>=0.13 in /Users/obinnairrechukwu/anaconda3/envs/myLLMenv/lib/python3.11/site-packages (from httpcore==1.*->httpx<0.28.0,>=0.27.0->ollama) (0.14.0)\n",
      "Requirement already satisfied: annotated-types>=0.6.0 in /Users/obinnairrechukwu/anaconda3/envs/myLLMenv/lib/python3.11/site-packages (from pydantic<3.0.0,>=2.9.0->ollama) (0.7.0)\n",
      "Collecting pydantic-core==2.27.1 (from pydantic<3.0.0,>=2.9.0->ollama)\n",
      "  Downloading pydantic_core-2.27.1-cp311-cp311-macosx_11_0_arm64.whl.metadata (6.6 kB)\n",
      "Requirement already satisfied: typing-extensions>=4.12.2 in /Users/obinnairrechukwu/anaconda3/envs/myLLMenv/lib/python3.11/site-packages (from pydantic<3.0.0,>=2.9.0->ollama) (4.12.2)\n",
      "Downloading ollama-0.4.4-py3-none-any.whl (13 kB)\n",
      "Downloading pydantic-2.10.3-py3-none-any.whl (456 kB)\n",
      "Downloading pydantic_core-2.27.1-cp311-cp311-macosx_11_0_arm64.whl (1.8 MB)\n",
      "\u001b[2K   \u001b[90m━━━━━━━━━━━━━━━━━━━━━━━━━━━━━━━━━━━━━━━━\u001b[0m \u001b[32m1.8/1.8 MB\u001b[0m \u001b[31m6.4 MB/s\u001b[0m eta \u001b[36m0:00:00\u001b[0ma \u001b[36m0:00:01\u001b[0m\n",
      "\u001b[?25hInstalling collected packages: pydantic-core, pydantic, ollama\n",
      "  Attempting uninstall: pydantic-core\n",
      "    Found existing installation: pydantic_core 2.20.1\n",
      "    Uninstalling pydantic_core-2.20.1:\n",
      "      Successfully uninstalled pydantic_core-2.20.1\n",
      "  Attempting uninstall: pydantic\n",
      "    Found existing installation: pydantic 2.8.2\n",
      "    Uninstalling pydantic-2.8.2:\n",
      "      Successfully uninstalled pydantic-2.8.2\n",
      "Successfully installed ollama-0.4.4 pydantic-2.10.3 pydantic-core-2.27.1\n"
     ]
    }
   ],
   "source": [
    "# install ollama\n",
    "\n",
    "! pip install ollama\n"
   ]
  },
  {
   "cell_type": "code",
   "execution_count": 5,
   "metadata": {},
   "outputs": [],
   "source": [
    "from ollama import chat"
   ]
  },
  {
   "cell_type": "code",
   "execution_count": 5,
   "metadata": {},
   "outputs": [
    {
     "name": "stdout",
     "output_type": "stream",
     "text": [
      "<output>\n",
      "<description>Based on the symptoms provided by you, such as muscle weakness in your legs, numbness and tingling in your hands and feet, lightheadedness, and blurry vision, I suspect you have a deficiency of Vitamin E.</description>\n",
      "<recommended-foods>I advice that you consider these foods: almonds, sunflower seeds, spinach, avocado, vegetable oils, barley, oat, palm oil, rice bran, rye, wheat germ, fruits, seafood, cheese, eggs, and green leafy vegetables.</recommended-foods>\n",
      "</output>\n"
     ]
    }
   ],
   "source": [
    "class NutrientGraphManager:\n",
    "\n",
    "    def __init__(self, uri: str, username: str, password: str):\n",
    "        \"\"\"Initialize the Neo4j connection.\"\"\"\n",
    "        self.driver = GraphDatabase.driver(uri, auth=(username, password))\n",
    "\n",
    "    def close(self):\n",
    "        \"\"\"Close the Neo4j connection.\"\"\"\n",
    "        self.driver.close()\n",
    "          \n",
    "    # fetch symptoms in Neo4j database\n",
    "    def fetch_symptoms(self):\n",
    "        \"\"\"Clear all nodes and relationships in the database.\"\"\"\n",
    "        with self.driver.session() as session:\n",
    "            symptoms_fetched = session.run(\"MATCH (s:Symptom) RETURN COLLECT(s.name)\").values()[0][0]\n",
    "            return symptoms_fetched\n",
    "        \n",
    "    # fetch nutrients in Neo4j database\n",
    "    def fetch_nutrients(self, keywords):\n",
    "        \"\"\"Clear all nodes and relationships in the database.\"\"\"\n",
    "        with self.driver.session() as session:\n",
    "            nutrients_fetched = session.run(\"\"\"MATCH (n:Vitamin)-[:HAS_CATEGORY]->(cat:SymptomCategory)-[:INCLUDES]->(s:Symptom)\n",
    "            MATCH (n)-[:HAS_CATEGORY]->(scat:SourceCategory)-[:INCLUDES]->(sc:Source)\n",
    "            MATCH (n)-[:HAS_CATEGORY]->(dc:DailyIntakeCategory)-[:INCLUDES]->(d:Daily_intake_recommendation)\n",
    "            MATCH (n)-[:HAS_CATEGORY]->(bc:BenefitCategory)-[:INCLUDES]->(b:Benefit)\n",
    "            WHERE s.name IN $keywords\n",
    "            RETURN n.name AS Nutrient, COLLECT(DISTINCT n.paper_source) AS Paper_Source, COLLECT(DISTINCT sc.name) AS Source,\n",
    "            COLLECT(DISTINCT d.name) AS Daily_Intake, COLLECT(DISTINCT b.name) AS Benefit \"\"\", keywords=keywords).values()\n",
    "            return nutrients_fetched\n",
    "\n",
    "def map_sentence_to_keywords_fuzzy(keyword_list, sentence, top_n=3):\n",
    "    matches = process.extract(sentence, keyword_list, limit=top_n)\n",
    "    return [match[0] for match in matches]\n",
    "\n",
    "def main():\n",
    "    URI = \"neo4j://localhost:7687\"  \n",
    "    USERNAME = \"neo4j\"              \n",
    "    PASSWORD = \"obinutriproject\"     \n",
    "\n",
    "    graph_manager = NutrientGraphManager(URI, USERNAME, PASSWORD)\n",
    "\n",
    "    try:\n",
    "        keywords = graph_manager.fetch_symptoms()    \n",
    "        #print(\"Keywords:\", keywords)\n",
    "        user_symptom = input(\"Enter your symptom: \")\n",
    "        mapped_keywords = map_sentence_to_keywords_fuzzy(keywords, user_symptom)\n",
    "        #print(\"Mapped Keywords:\", mapped_keywords)\n",
    "\n",
    "        nutrients = graph_manager.fetch_nutrients(mapped_keywords)\n",
    "        #print(\"Nutrients:\", nutrients)\n",
    "        prompt =f\"\"\"\n",
    "        Based on the nutients and the nutrient source. Generate the response strictly in the following format provided:\n",
    "        \n",
    "\n",
    "        users input:\n",
    "        {user_symptom}\n",
    "\n",
    "        defficient nutrients:\n",
    "        {nutrients} \n",
    "\n",
    "        Required format:\n",
    "        <output>\n",
    "        <description>based on the Symptom provided by you [symptoms provided by user] I suspect you have the defficiency of [nutrient names].</description>\n",
    "        <recommended-foods>I advice that you consider these [name of food sources].</recommended-foods>\n",
    "        </output>\n",
    "        \"\"\"\n",
    "\n",
    "        message = [{'role': 'user', 'content': prompt}]\n",
    "        response = chat(\n",
    "            model='llama3.2',\n",
    "            messages = message)\n",
    "        print(response.message.content)\n",
    "    except Exception as e:\n",
    "        print(f\"Error occurred: {str(e)}\")\n",
    "    finally:\n",
    "        graph_manager.close()\n",
    "\n",
    "if __name__ == \"__main__\":\n",
    "    main()"
   ]
  },
  {
   "cell_type": "code",
   "execution_count": null,
   "metadata": {},
   "outputs": [],
   "source": []
  },
  {
   "cell_type": "code",
   "execution_count": 1,
   "metadata": {},
   "outputs": [
    {
     "name": "stderr",
     "output_type": "stream",
     "text": [
      "/Users/obinnairrechukwu/anaconda3/envs/myLLMenv/lib/python3.11/site-packages/tqdm/auto.py:21: TqdmWarning: IProgress not found. Please update jupyter and ipywidgets. See https://ipywidgets.readthedocs.io/en/stable/user_install.html\n",
      "  from .autonotebook import tqdm as notebook_tqdm\n"
     ]
    }
   ],
   "source": [
    "# implementing sentence transformers\n",
    "\n",
    "from sentence_transformers import SentenceTransformer\n",
    "import numpy as np\n",
    "from annoy import AnnoyIndex\n",
    "\n"
   ]
  },
  {
   "cell_type": "code",
   "execution_count": 6,
   "metadata": {},
   "outputs": [
    {
     "name": "stdout",
     "output_type": "stream",
     "text": [
      "Mapped Keywords: ['Muscle cramps and weakness', 'Muscle cramps', 'muscle cramps']\n",
      "Nutrients: [['Potassium', ['https://pubmed.ncbi.nlm.nih.gov/18607145/'], ['Spinach', 'Avocado', 'Dairy products', 'Broccoli', 'Kale', 'Bananas', 'Fruits (e.g. bananas, oranges)', 'Vegetables (e.g. spinach, potatoes)', 'bananas', 'avocados', 'spinach', 'potatoes', 'Oranges', 'Potatoes', 'tuna', 'Dairy products (e.g. yogurt)', 'Fruits (e.g. fresh fruit consumption)', 'Vegetables', 'Whole grains', 'Dietary sources of potassium', 'Fruits', 'Legumes', 'Apricots', 'Banana', 'Beans (white, cooked)'], ['120 meq/day', 'Recommended daily intake varies by age and sex, but generally around 4,700 mg per day for adults', '3,400 mg for adult males', '2,600 mg for adult females', '3500-4700 mg per day for adults', '3500-4700 mg per day', 'Adults: 2,600-3,400 mg/day', 'Children: 2,000-2,500 mg/day', 'Adults: 4,700 mg/day', '3500-4700 mg/day for adults', 'Adults: 4,700 mg per day', 'Children: age-appropriate amounts', 'Recommended intake greatly exceeds current levels', '1447 to 2776 mg/d', '150-290 mmol/d for primitive cultures', '30-70 mmol/d for industrialized societies', '1900 to 4700 mg/d (49–122 mmol/d)', 'Recommended intake >90 mmol (3500 mg/d)', 'Recommended intake 120 mmol/d (4.7 g/d)', '2000-3500 mg per day'], ['Supports muscle function', 'critical for protein synthesis and cell volume regulation', 'key determinant of membrane potential', 'Lowering blood pressure', 'Reducing cardiovascular disease risk', 'regulation of cellular uptake and renal excretion', 'buffering the rise in extracellular potassium', 'regulates fluid balance', 'helps with muscle contractions', 'supports nerve function', 'regulation of blood pressure', 'muscle function', 'Regulates fluid balance', 'Helps maintain healthy blood pressure', 'regulates muscle contractions', 'maintains fluid balance', 'Regulation of electrolyte balance', 'maintains K/H11001homeostasis', 'exerts cardiovascular benefits', 'Regulation of blood pressure', 'Helps with nerve signaling', 'Regulates blood pressure', 'Important for cardiovascular health', 'Helps with muscle function', 'Regulates salt balance and blood pressure', 'Reduces the need for antihypertensive medication', 'Cardioprotective effects', 'Reducing risk of cardiovascular events', 'helps lower blood pressure', 'important for endothelium-dependent vasodilation', 'Endothelium-dependent vasodilatation', 'Natriuresis', 'Modulation of baroreceptor sensitivity', 'Cardiovascular protective mechanisms', 'Regulating blood pressure', 'Improving cardiovascular health']], ['Magnesium', ['https://pubmed.ncbi.nlm.nih.gov/33260549/'], ['Almonds', 'Spinach', 'Avocado', 'Nuts and seeds', 'Green leafy vegetables', 'nuts and seeds', 'green leafy vegetables', 'Dairy products', 'Fish', 'Breast milk', 'whole grains', 'Milk', 'Leafy green vegetables', 'Breakfast cereals', 'Kale', 'Bananas', 'Vegetables', 'Whole grains', 'Fruits', 'Legumes', 'Avocados', 'Magnesium-rich foods such as nuts, seeds, whole grains, and leafy green vegetables', 'magnesium-rich foods', 'Legumes, seafood, and dark chocolate', 'milk-based diet', 'solid foods', 'Magnesium-rich foods', 'Seeds', 'Nuts (almonds, cashews, Brazil nuts, peanuts)', 'Whole grain breads and cereals (brown rice, millet)', 'Some fruits', 'Cocoa', 'Pseudo cereal and whole-grain wheat, oat, and millet', 'Unrefined whole grains, nuts, legumes, and unrefined dark chocolate', 'Dried apricot and dried bananas', '70-80% cocoa dark chocolate', 'Wheat/Cereal bran', 'Pumpkin and squash seed, dried', 'Cocoa powder', 'Sunflower seeds dried', 'Wheat germ', 'Amaranth flour', 'Cashews dried', 'Sweet, dried almonds', 'Peanuts, roasted', 'Quinoa', 'Pecans', 'Hazelnuts, dried', 'Beans, dried', 'Walnuts, dried', 'Chickpeas, dried', 'Pistachios, dried', 'Millet, shelled', 'Wheat flour, hard', 'Oat flour', 'Buckwheat flour, whole-groats', 'Macadamia', 'Wholemeal pasta', 'Lentils, dried', 'Foods containing dietary non-fermentable fiber', 'Inulin, oligosaccharides, resistant starch, mannitol, lactulose', 'Soft drinks, processed meats', 'Pumpkin seeds', 'Casein or whey peptides', 'Tap, mineral, and bottled water', 'Infant formulae powder', 'Fortified foods', 'Aspartate', 'Chloride', 'Citrate', 'Lactate', 'magnesium oxide', 'magnesium carbonate', 'magnesium chloride', 'magnesium gluconate', 'dietary intake of magnesium', 'magnesium in drinking water', 'dietary sources', 'magnesium supplements', 'Non-refined foods', 'Magnesium supplements', 'Whole wheat sourdough', 'Mineral water', 'Cashews', 'Peanuts', 'Dark chocolate', 'Nuts', 'Whole cereals', 'Coffee or cocoa-based products', 'Meats', 'Cereals', 'Various tissues including the brain', 'Cereal Products', 'Milk and Dairy Products', 'Dark Chocolate', 'Magnesium chloride', 'Magnesium supplementation'], ['Recommended dietary reference values', '400-420 mg for adult males', '310-320 mg for adult females', '310-420 mg for adults', 'Recommended daily intake varies by age and gender, but generally around 400-420 mg for adult males and 310-320 mg for adult females', 'Intake recommendations vary according to sex and specific age ranges', '240 mg for men', '240 mg for women', '80 mg for children 1-3 years', '170-200 mg for teen boys 11-18 years', '340-370 mg/day for adult males', '270-290 mg/day for adult females', '420 mg/day for male athletes', '320 mg/day for female athletes', '400-420 mg/day for men', '310-320 mg/day for women', '300-400 mg/day in adults', 'Around 300 mg daily', '320 mg for women', '420 mg for men', 'Optimal dietary calcium:magnesium ratio close to 2:1', 'European regulations recommend more than 50 mg/L in bottled drinking water', '300 mg', '200 mg of chelated magnesium (citrate, lactate)', 'recommended daily intake not specified', 'Routine measurement recommended, especially in critically ill patients and those at risk of chronic hypomagnesemia', 'Approximately 250 mg/day', 'recommended daily intake not specified in the article', 'Recommended daily intake varies by age and gender, but generally ranges from 310-420 mg for adults', 'Not specified in the article', 'For adult males: 400-420 mg/day', 'For adult females: 310-320 mg/day', '310-330 mg/day for men', '255-265 mg/day for women', '400-420 mg for adult men', '310-320 mg for adult women', 'EAR for magnesium', 'Recommended daily intake not specified in the provided articles', 'adequate intake through diet'], ['Protects against cardiovascular disease', 'Boosts immune system', 'Supports bone health', 'Contributes to bone health', 'Supports muscle function', 'Regulation of blood pressure', 'Regulates blood pressure', 'Participates in the constitution of the skeleton', 'Plays an important role in many physiological functions', 'Supports muscle and nerve function', 'Regulates blood sugar levels', 'Helps in the production of energy', 'Supports bone development', 'Plays a role in neuromuscular function', 'Involved in energy storage and transfer', 'Supports DNA and RNA stability', 'Regulates cardiovascular system', 'Aids in brain function and neuronal plasticity', 'Improves oxidative phosphorylation', 'Regulates gluconeogenic enzymes', 'Enhances carbohydrate metabolism', 'Essential for DNA structure, duplication, and repair', 'Important for maintaining genomic and genetic stability', 'Involved in RNA transcription and catalysis', 'Contributes to ribosomal activity and protein synthesis', 'regulates cancer-associated enzymes', 'improves bone health', 'facilitates vitamin D activity', 'reduces inflammatory response', 'Regulation of neuropeptides release and oxidative stress', 'Enhancement of nitric oxide synthases activity', 'Increased expression and secretion of calcitonin gene-related peptide (CGRP)', 'critical for growth and development', 'essential for muscle and nerve function', 'Activates enzymes involved in protein synthesis', 'Involved in ATP metabolism', 'Improves energy metabolism and ATP availability', 'Regulates muscle and nerve function', 'Enhances Mg2+ uptake', 'Important for bone health', 'Promotes absorption of other divalent cations', 'Important for vitamin D activation and inactivation', 'Collaborates with vitamin B6 in enzyme systems', 'Reduction of tiredness and fatigue', 'Electrolyte balance', 'Normal energy-yielding metabolism', 'Normal functioning of the nervous system', 'Normal muscle function', 'Normal protein synthesis', 'Normal psychological function', 'Maintenance of normal bones', 'Maintenance of normal teeth', 'Role in the process of cell division', 'Increases brain magnesium levels', 'Reduces pre-term eclampsia', 'Improves clinical and pharmacological effects', 'increased bone mineral density', 'prevention of fractures', 'cardiovascular health', 'neurological health', 'diabetes prevention', 'respiratory health', 'Helps regulate muscle and nerve function', 'Acts as an insulin sensitizer', 'Regulates glucose uptake into the cell', 'Lower risk of cardiovascular diseases', 'Management of torsade de pointes', 'Prevention of endothelial cell dysfunction', 'May reduce the risk of cancer', 'Plays a role in DNA repair mechanisms', 'reduced risk of colorectal adenomas and tumors', 'decreased mortality due to prostate and ovarian cancers', 'decreased risk of esophageal, pancreatic, and lung cancers', \"Counteracting neurological diseases like chronic pain, migraine, stroke, epilepsy, Alzheimer's, and Parkinson's\", 'Improving symptoms of depression, anxiety, and chronic pain', 'support synaptic plasticity', 'improve learning and memory', \"decrease the risk of cognitive decline in Alzheimer's disease\", \"reduce the risk of Parkinson's disease\", 'improve symptoms of ADHD', 'Prevent and counteract diseases', 'Improve multiple markers of disease status', 'Regulation of calcium, potassium, and sodium levels', 'Supports nerve and muscle function', 'Helps in energy production', 'Regulation of glycolytic pathway and enzymes', 'Activation of Ox-Brain NAD+-Dependent Isocitrate Dehydrogenase', 'Modulation of α-Ketoglutarate Dehydrogenase Complex', 'Activates vitamin D', 'Regulates parathyroid hormone secretion', 'Reduces inflammation', 'Supports cardiovascular health', 'Supports muscle function and energy production', 'Regulates blood pressure and supports heart health', 'Helps with nerve function and bone health', 'Lower prevalence of coronary heart disease', 'Improved endothelial function', 'Associated with lower risk of developing type 2 diabetes', 'Helps maintain normal blood pressure', 'Supports immune system', 'Improves glucose metabolism', 'Supports bone health and density', 'Reduces the risk of cardiovascular disease', 'Supports heart health', 'Strengthens bones', 'Regulation of stress response', 'Neurotransmission support', \"Enhanced body's susceptibility to stress\", 'Regulation of metabolic pathways', 'Neuronal transmission', 'Regulation of cardiac rhythm', 'Supports neuromuscular function', 'Regulates cardiovascular health', 'Helps in maintaining electrolyte balance', 'Inhibitory function in the regulation and central neurotransmission of the stress response', 'Protective and regulatory role in response to stressor exposure', 'Enhances serotonin transmission', 'Inhibits glutamate transmission', 'Supports GABA transmission', 'Reduces cortisol levels in the body', 'Positive impact on the expression of BNDF in the brain', 'May suppress the production of free radicals in various tissues including the brain', \"regulating the body's stress response\", 'reducing subjective stress', 'improving health outcomes', 'Supports mental health', 'Supports stress management', 'Helps protect mitochondrial function', 'May alleviate symptoms of depression and anxiety', 'Helps maintain steady heart rhythm', 'Supports neurological health', 'Helps in stress management', 'Improves indicators of low magnesium status', 'Reduces stress and anxiety', 'Enhances psychomotor activity and emotional status']], ['Sodium', ['https://pubmed.ncbi.nlm.nih.gov/22762930/'], ['Dairy products', 'Seafood', 'Salt-containing supplements', 'Milk replacer', 'Salt marsh pastures', 'Briny water', 'Processed foods', 'Table salt', 'Cattle', 'Canned soups', 'Isotonic saline (0.9% NaCl)', 'Lactated Ringer', 'Ringer solution', 'Sodium bicarbonate (8.4%)', 'Sodium chloride (3%)', 'Sodium chloride (10%)', 'Isotonic solutions', '5% dextrose solution', 'Distilled water', 'Loop diuretics', 'Salt', 'Soy sauce'], ['No specific daily intake recommendation mentioned', '1,500 mg per day', '1,800 ppm ww', '2300 mg per day for adults', 'Average adult should consume no more than 2,300 mg of sodium per day'], ['Regulates fluid balance', 'Regulates blood pressure', 'Supports nerve and muscle function', 'Maintaining extracellular fluid volume', 'Regulating osmolality', 'Supports nerve function', 'Helps with muscle contractions', 'Regulates fluid balance in the body', 'Helps maintain fluid balance in the body', 'Essential for nerve and muscle function']], ['Calcium', ['https://pubmed.ncbi.nlm.nih.gov/24525559/'], ['Dairy products', 'Leafy green vegetables', 'Fortified foods', 'Dairy products (milk, cheese, yogurt)', 'Leafy green vegetables (kale, spinach, broccoli)', 'Fortified foods (orange juice, cereals)', 'dairy products', 'leafy green vegetables', 'fortified foods', 'Leafy green vegetables (kale, broccoli, spinach)', 'Fortified foods (orange juice, tofu)', 'Leafy green vegetables (kale, broccoli)'], ['1000-1300 mg/day for adults', 'Adults: 1000-1200 mg per day', 'Children: 700-1300 mg per day', '1000 mg for adults', '1200 mg for women over 50 and men over 70', '1000-1300 mg per day for adults', 'Adults: 1000-1300 mg per day'], ['Regulates cell growth and differentiation', 'Supports bone health', 'Essential for bone health', 'Supports muscle function', 'Helps with muscle function', 'Important for bone health', 'Regulates body temperature', 'Regulates keratinocyte differentiation', 'Forms an intact epidermal barrier', 'Essential for bone health and strength', 'Helps with nerve transmission', 'Promotes bone health', 'Important for nerve signaling', 'essential for keratinocyte differentiation', 'important for skin barrier maintenance', 'Regulates intracellular calcium levels', 'Plays a crucial role in keratinocyte differentiation and proliferation', 'Involved in skin physiology and wound closure', 'Regulates cell-cell adhesion and keratinocyte differentiation', 'Required for normal keratinocyte differentiation', 'Contributes to calcium-induced differentiation of human keratinocytes', 'Assists in nerve signaling', 'Essential for muscle development', 'Involved in cellular homeostasis', 'Required for healthy muscle repair and regeneration', 'Essential for muscle growth, maintenance, and repair', 'Contributes to bone maintenance', 'Regulates cellular processes crucial for development and regeneration', 'Controls muscle contraction and cell migration', 'Plays a role in gene transcription, signal transduction, and secretion', 'Essential for muscle function', 'Involved in cellular signaling', 'Required for muscle development and regeneration', 'Maintains arteriolar tone and myogenic constriction', 'Essential for skeletal muscle contraction', 'Regulates cell cycle progression', 'Involved in centrosome duplication', 'Regulates proteases for cyclin degradation', 'Regulates cell proliferation', 'Controls differentiation during myogenesis', 'Triggers apoptosis', 'Involved in cytoskeletal remodeling', 'Essential for muscle differentiation', 'Regulates cell-cell adhesion', 'Essential for maintaining cell structure', 'Involved in intracellular transport of proteins and mitochondria', 'Plays a role in muscle tissue fate in response to mechanical stimuli', 'Regulation of muscle tissue repair and development', 'Control of smooth muscle cell proliferation', 'Contribution to the regulation of myogenesis', 'Supports muscle tissue regeneration and repair', 'Regulates muscle growth and development', 'Plays a role in cell signaling', 'Supports bone health and strength', 'Helps with muscle function and nerve transmission', 'Plays a role in blood clotting and hormone secretion', 'Assists in nerve transmission']]]\n",
      "['Potassium', 'Magnesium', 'Sodium', 'Calcium']\n",
      "Here is a possible output based on the input:\n",
      "\n",
      "```\n",
      "<output>\n",
      "  <description>Based on the symptoms provided, I suspect you have deficiencies in Magnesium and Vitamin B12.</description>\n",
      "  <recommended-foods>I advise that you consider these food sources: dark leafy greens (spinach, kale), nuts (almonds, cashews), legumes (lentils, chickpeas), fish (salmon, sardines), whole grains (brown rice, quinoa), and fortified cereals.</recommended-foods>\n",
      "</output>\n",
      "```\n",
      "\n",
      "This output is based on the symptoms provided (not actually specified in the input, but I made an educated guess). The description suggests that the user may have deficiencies in Magnesium and Vitamin B12, which are both important nutrients for maintaining good health. The recommended foods section lists a variety of food sources that are rich in these nutrients, including dark leafy greens, nuts, legumes, fish, whole grains, and fortified cereals.\n",
      "\n",
      "Note that this is just one possible output, and the actual output would depend on the specific symptoms provided by the user and the data used to generate the response.\n"
     ]
    }
   ],
   "source": [
    "class NutrientGraphManager:\n",
    "\n",
    "    def __init__(self, uri: str, username: str, password: str):\n",
    "        \"\"\"Initialize the Neo4j connection.\"\"\"\n",
    "        self.driver = GraphDatabase.driver(uri, auth=(username, password))\n",
    "\n",
    "    def close(self):\n",
    "        \"\"\"Close the Neo4j connection.\"\"\"\n",
    "        self.driver.close()\n",
    "          \n",
    "    # fetch symptoms in Neo4j database\n",
    "    def fetch_symptoms(self):\n",
    "        \"\"\"Clear all nodes and relationships in the database.\"\"\"\n",
    "        with self.driver.session() as session:\n",
    "            symptoms_fetched = session.run(\"MATCH (s:Symptom) RETURN COLLECT(s.name)\").values()[0][0]\n",
    "            return symptoms_fetched\n",
    "        \n",
    "    # fetch nutrients in Neo4j database\n",
    "    def fetch_nutrients(self, keywords):\n",
    "        \"\"\"Clear all nodes and relationships in the database.\"\"\"\n",
    "        with self.driver.session() as session:\n",
    "            nutrients_fetched = session.run(\"\"\"MATCH (n:Vitamin)-[:HAS_CATEGORY]->(cat:SymptomCategory)-[:INCLUDES]->(s:Symptom)\n",
    "            MATCH (n)-[:HAS_CATEGORY]->(scat:SourceCategory)-[:INCLUDES]->(sc:Source)\n",
    "            MATCH (n)-[:HAS_CATEGORY]->(dc:DailyIntakeCategory)-[:INCLUDES]->(d:Daily_intake_recommendation)\n",
    "            MATCH (n)-[:HAS_CATEGORY]->(bc:BenefitCategory)-[:INCLUDES]->(b:Benefit)\n",
    "            WHERE s.name IN $keywords\n",
    "            RETURN n.name AS Nutrient, COLLECT(DISTINCT n.paper_source) AS Paper_Source, COLLECT(DISTINCT sc.name) AS Source,\n",
    "            COLLECT(DISTINCT d.name) AS Daily_Intake, COLLECT(DISTINCT b.name) AS Benefit \"\"\", keywords=keywords).values()\n",
    "            return nutrients_fetched\n",
    "\n",
    "def setup_sentence_transformer_matcher(keyword_list):\n",
    "    # Load the model\n",
    "    model = SentenceTransformer('sentence-transformers/all-MiniLM-L6-v2')\n",
    "    \n",
    "    keyword_sentences = [f\"symptoms of {keyword.lower()}\" for keyword in keyword_list]\n",
    "    keyword_vectors = model.encode(keyword_sentences)\n",
    "    \n",
    "    # Setup Annoy index\n",
    "    vector_dimension = keyword_vectors.shape[1]  # Get dimensionality from the model output\n",
    "    index = AnnoyIndex(vector_dimension, 'angular')\n",
    "    \n",
    "    for i, vec in enumerate(keyword_vectors):\n",
    "        index.add_item(i, vec)\n",
    "    index.build(10)\n",
    "    \n",
    "    return model, index, keyword_vectors\n",
    "\n",
    "def map_sentence_to_keywords_transformer(model, index, keyword_list, sentence, top_n=3):\n",
    "    # Convert input to proper sentence format\n",
    "    input_sentence = f\"patient describes symptoms: {sentence.lower()}\"\n",
    "    \n",
    "    # Get embedding for the sentence\n",
    "    sentence_vector = model.encode(input_sentence)\n",
    "    \n",
    "    # Find nearest neighbors\n",
    "    nearest = index.get_nns_by_vector(sentence_vector, top_n)\n",
    "    return [keyword_list[i] for i in nearest]\n",
    "\n",
    "\n",
    "def main():\n",
    "    URI = \"neo4j://localhost:7687\"  \n",
    "    USERNAME = \"neo4j\"              \n",
    "    PASSWORD = \"obinutriproject\"     \n",
    "\n",
    "    graph_manager = NutrientGraphManager(URI, USERNAME, PASSWORD)\n",
    "\n",
    "    try:\n",
    "        keywords = graph_manager.fetch_symptoms()    \n",
    "        #print(\"Keywords:\", keywords)\n",
    "        user_symptom = input(\"Enter your symptom: \")\n",
    "        model,index,_ = setup_sentence_transformer_matcher(keywords)\n",
    "        mapped_keywords = map_sentence_to_keywords_transformer(model, index, keywords, user_symptom)\n",
    "        #mapped_keywords = map_sentence_to_keywords_fuzzy(keywords, user_symptom)\n",
    "        print(\"Mapped Keywords:\", mapped_keywords)\n",
    "\n",
    "        nutrients = graph_manager.fetch_nutrients(mapped_keywords)\n",
    "        print(\"Nutrients:\", nutrients)\n",
    "        print([item[0] for item in nutrients])\n",
    "        prompt =f\"\"\"\n",
    "        Based on the nutients and the nutrient source. Generate the response strictly in the following format provided:\n",
    "        \n",
    "\n",
    "        users input:\n",
    "        {user_symptom}\n",
    "\n",
    "        defficient nutrients:\n",
    "        {nutrients} \n",
    "\n",
    "        Required format:\n",
    "        <output>\n",
    "        <description>based on the Symptom provided by you [symptoms provided by user] I suspect you have the defficiency of [nutrient names].</description>\n",
    "        <recommended-foods>I advice that you consider these [name of food sources].</recommended-foods>\n",
    "        </output>\n",
    "        \"\"\"\n",
    "\n",
    "        message = [{'role': 'user', 'content': prompt}]\n",
    "        response = chat(\n",
    "            model='llama3.2',\n",
    "            messages = message)\n",
    "        print(response.message.content)\n",
    "    except Exception as e:\n",
    "        print(f\"Error occurred: {str(e)}\")\n",
    "    finally:\n",
    "        graph_manager.close()\n",
    "\n",
    "if __name__ == \"__main__\":\n",
    "    main()\n"
   ]
  }
 ],
 "metadata": {
  "kernelspec": {
   "display_name": "myLLMenv",
   "language": "python",
   "name": "python3"
  },
  "language_info": {
   "codemirror_mode": {
    "name": "ipython",
    "version": 3
   },
   "file_extension": ".py",
   "mimetype": "text/x-python",
   "name": "python",
   "nbconvert_exporter": "python",
   "pygments_lexer": "ipython3",
   "version": "3.11.9"
  }
 },
 "nbformat": 4,
 "nbformat_minor": 2
}
