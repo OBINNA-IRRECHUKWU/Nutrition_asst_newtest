{
 "cells": [
  {
   "cell_type": "code",
   "execution_count": 7,
   "metadata": {},
   "outputs": [],
   "source": [
    "import time"
   ]
  },
  {
   "cell_type": "code",
   "execution_count": 2,
   "metadata": {},
   "outputs": [
    {
     "name": "stdout",
     "output_type": "stream",
     "text": [
      "Collecting scikit-learn\n",
      "  Downloading scikit_learn-1.5.2-cp311-cp311-macosx_12_0_arm64.whl.metadata (13 kB)\n",
      "Requirement already satisfied: numpy>=1.19.5 in /Users/obinnairrechukwu/anaconda3/envs/myLLMenv/lib/python3.11/site-packages (from scikit-learn) (1.26.4)\n",
      "Collecting scipy>=1.6.0 (from scikit-learn)\n",
      "  Downloading scipy-1.14.1-cp311-cp311-macosx_14_0_arm64.whl.metadata (60 kB)\n",
      "Requirement already satisfied: joblib>=1.2.0 in /Users/obinnairrechukwu/anaconda3/envs/myLLMenv/lib/python3.11/site-packages (from scikit-learn) (1.4.2)\n",
      "Collecting threadpoolctl>=3.1.0 (from scikit-learn)\n",
      "  Downloading threadpoolctl-3.5.0-py3-none-any.whl.metadata (13 kB)\n",
      "Downloading scikit_learn-1.5.2-cp311-cp311-macosx_12_0_arm64.whl (11.0 MB)\n",
      "\u001b[2K   \u001b[90m━━━━━━━━━━━━━━━━━━━━━━━━━━━━━━━━━━━━━━━━\u001b[0m \u001b[32m11.0/11.0 MB\u001b[0m \u001b[31m6.0 MB/s\u001b[0m eta \u001b[36m0:00:00\u001b[0m00:01\u001b[0m0:01\u001b[0m\n",
      "\u001b[?25hDownloading scipy-1.14.1-cp311-cp311-macosx_14_0_arm64.whl (23.1 MB)\n",
      "\u001b[2K   \u001b[90m━━━━━━━━━━━━━━━━━━━━━━━━━━━━━━━━━━━━━━━━\u001b[0m \u001b[32m23.1/23.1 MB\u001b[0m \u001b[31m4.6 MB/s\u001b[0m eta \u001b[36m0:00:00\u001b[0m00:01\u001b[0m00:01\u001b[0m\n",
      "\u001b[?25hDownloading threadpoolctl-3.5.0-py3-none-any.whl (18 kB)\n",
      "Installing collected packages: threadpoolctl, scipy, scikit-learn\n",
      "Successfully installed scikit-learn-1.5.2 scipy-1.14.1 threadpoolctl-3.5.0\n"
     ]
    }
   ],
   "source": [
    "# install sklearn\n",
    "! pip install scikit-learn"
   ]
  },
  {
   "cell_type": "code",
   "execution_count": 9,
   "metadata": {},
   "outputs": [
    {
     "name": "stdout",
     "output_type": "stream",
     "text": [
      "Time taken: 5.026917934417725\n",
      "TF-IDF Mapped Keywords: ['weakness and muscle damage', 'fatigue and weakness', 'numbness or tingling in extremities']\n"
     ]
    }
   ],
   "source": [
    "\n",
    "from sklearn.feature_extraction.text import TfidfVectorizer\n",
    "from sklearn.metrics.pairwise import cosine_similarity\n",
    "import numpy as np\n",
    "\n",
    "def setup_tfidf_matcher(keyword_list):\n",
    "    vectorizer = TfidfVectorizer()\n",
    "    keyword_vectors = vectorizer.fit_transform(keyword_list)\n",
    "    return vectorizer, keyword_vectors\n",
    "\n",
    "def map_sentence_to_keywords_tfidf(vectorizer, keyword_vectors, keyword_list, sentence, top_n=3):\n",
    "    sentence_vector = vectorizer.transform([sentence])\n",
    "    similarities = cosine_similarity(sentence_vector, keyword_vectors).flatten()\n",
    "    top_indices = np.argsort(similarities)[-top_n:][::-1]\n",
    "    return [keyword_list[i] for i in top_indices]\n",
    "\n",
    "\n",
    "# Cosine similarity\n",
    "keyword_list = ['weakened immune system', 'vision problems', 'neurological problems', 'muscle weakness',\n",
    "                'weakness and muscle damage', 'anemia', 'impaired immune response',\n",
    "                'oxidative degradation', 'nerve damage', 'poor vision', 'dry skin', 'increased susceptibility to infections',\n",
    "                'xerophthalmia', 'clinical ophthalmic signs of vitamin A deficiency', 'severe VAD', \n",
    "                'depression', 'nervosness', 'irritability', 'sideroblastic microcytic anemia', 'seizures',\n",
    "                'peripheral neuropathy', 'dermatologic lesions', 'megaloblastic anemia', 'neropathy', 'memory loss',\n",
    "                'nausea and vomiting', 'migraine', 'insulin resistance', 'hypocalcemia', 'thrombosis',\n",
    "                'cardiovascular complications', 'impaired T cell activation and increased risk of hematologic malignancies',\n",
    "                'cognitive decline', 'abnormal health rhythms', 'mild anxiety', 'sleep disorders', 'fatigue and weakness',\n",
    "                'hypernatremia', 'confusion', 'numbness or tingling in extremities', 'sporadic hair loss', 'loss of muscle mass']\n",
    "\n",
    "sentence = \"\"\"I've been feeling a bit off lately. I'm experiencing a lot of muscle weakness, especially in my legs. \n",
    "Sometimes, I even have trouble walking without stumbling. My reflexes seem slower than usual, \n",
    "and I've noticed some numbness and tingling in my hands and feet. \n",
    "I've also been feeling a bit lightheaded, and my vision seems a little blurry. I'm worried about what might be causing these issues.\"\"\"\n",
    "\n",
    "start_time = time.time()\n",
    "for i in range(10000):\n",
    "    vectorizer, keyword_vectors = setup_tfidf_matcher(keyword_list)  \n",
    "    mapped_keywords = map_sentence_to_keywords_tfidf(vectorizer, keyword_vectors, keyword_list, sentence)\n",
    "end_time = time.time()\n",
    "print(\"Time taken:\", end_time - start_time)\n",
    "print(\"TF-IDF Mapped Keywords:\", mapped_keywords)\n",
    "\n"
   ]
  },
  {
   "cell_type": "code",
   "execution_count": 5,
   "metadata": {},
   "outputs": [
    {
     "name": "stdout",
     "output_type": "stream",
     "text": [
      "Collecting fuzzywuzzy\n",
      "  Downloading fuzzywuzzy-0.18.0-py2.py3-none-any.whl.metadata (4.9 kB)\n",
      "Downloading fuzzywuzzy-0.18.0-py2.py3-none-any.whl (18 kB)\n",
      "Installing collected packages: fuzzywuzzy\n",
      "Successfully installed fuzzywuzzy-0.18.0\n"
     ]
    }
   ],
   "source": [
    "# install fuzzywuzzy\n",
    "! pip install fuzzywuzzy"
   ]
  },
  {
   "cell_type": "code",
   "execution_count": 10,
   "metadata": {},
   "outputs": [
    {
     "name": "stdout",
     "output_type": "stream",
     "text": [
      "Time taken: 134.38339829444885\n",
      "Fuzzy Mapped Keywords: ['impaired T cell activation and increased risk of hematologic malignancies', 'muscle weakness', 'vision problems']\n"
     ]
    }
   ],
   "source": [
    "# Fuzzy matching\n",
    "from fuzzywuzzy import process\n",
    "\n",
    "def map_sentence_to_keywords_fuzzy(keyword_list, sentence, top_n=3):\n",
    "    matches = process.extract(sentence, keyword_list, limit=top_n)\n",
    "    return [match[0] for match in matches]\n",
    "\n",
    "\n",
    "keyword_list = ['weakened immune system', 'vision problems', 'neurological problems', 'muscle weakness',\n",
    "                'weakness and muscle damage', 'anemia', 'impaired immune response',\n",
    "                'oxidative degradation', 'nerve damage', 'poor vision', 'dry skin', 'increased susceptibility to infections',\n",
    "                'xerophthalmia', 'clinical ophthalmic signs of vitamin A deficiency', 'severe VAD', \n",
    "                'depression', 'nervosness', 'irritability', 'sideroblastic microcytic anemia', 'seizures',\n",
    "                'peripheral neuropathy', 'dermatologic lesions', 'megaloblastic anemia', 'neropathy', 'memory loss',\n",
    "                'nausea and vomiting', 'migraine', 'insulin resistance', 'hypocalcemia', 'thrombosis',\n",
    "                'cardiovascular complications', 'impaired T cell activation and increased risk of hematologic malignancies',\n",
    "                'cognitive decline', 'abnormal health rhythms', 'mild anxiety', 'sleep disorders', 'fatigue and weakness',\n",
    "                'hypernatremia', 'confusion', 'numbness or tingling in extremities', 'sporadic hair loss', 'loss of muscle mass']\n",
    "\n",
    "#keyword_list = ['Bruising', 'Hemolytic anemia', 'Iron-deficiency Anemia', 'Spina bifida', 'Ariboflavinosis', 'Tremors', 'Skin irritation', 'Cardiovascular Disease', 'Heart Disease', 'Hypomagnesemia', 'Difficulty concentrating', 'Liver damage', 'Bleeding gums', 'Inflammatory disorders', 'Parkinson s Disease', 'Preeclampsia', 'Swollen gums', 'Tissue fragility', 'Abdominal Pain', 'Oxidative stress', 'Fatigue', 'Depressed Mood', 'Chest pain', 'Magnesium Deficiency', 'Joint pain', 'Increased oxidative stress', 'Cognitive Impairment', 'Thrombus formation', 'Coronary heart disease', 'Reduced bone mass', 'Pale skin', 'Deficiency can lead to neurological disorders', 'Zinc Deficiency', 'Clostridium difficile infection', 'Hair Loss', 'Abdominal Cramps', 'Antibiotic-associated diarrhea', 'Migraine', 'Alzheimer s disease', 'Cell proliferation', 'Loss of height', 'Osteoporosis', 'Airway inflammation', 'Poor bioavailability of tocotrienol', 'Dysmenorrhea', 'Menstrual Pain', 'Sensitivity to light', 'Neurological disorders', 'Asthma', 'Blindness', 'Neurodevelopmental Disorders', 'Anemia', 'Cognitive Decline', 'Delayed wound healing', 'Headache', 'Difficulty seeing in low light', 'High blood pressure', 'Beriberi', 'Bleeding Gums', 'Premenstrual Syndrome (PMS)', 'Weight gain', 'Tiredness', 'Muscle cramps', 'Bradykinesia', 'Protein in urine', 'Proinflammatory cytokines production', 'Behavioral Issues', 'Dry eyes', 'Irritability', 'Insulin resistance', 'Traumatic brain injury', 'Not available', 'Major Depression', 'Cardiac arrhythmias', 'Increased risk of atherosclerosis', 'Muscle Weakness', 'Depression', 'Vitamin A Deficiency', 'Dry Skin', 'Neural tube defects', 'Scurvy', 'Cognitive decline', 'Vision problems', 'Insulin Resistance', 'N/A', 'Increased fragility', 'Mood swings', 'Weakened immune system', 'High blood sugar levels', 'Anencephaly', 'Muscle weakness', 'Diarrhea', 'Capillary fragility', 'Xerophthalmia', 'Anxiety and Depression', 'Shortness of breath', 'Atheromas formation', 'Heart-related symptoms', 'Bone pain', 'Decreased bone density', 'Numbness', 'Vision Problems', 'Inflammatory Diseases', 'Hypomagnesaemia', 'Bloating', 'Atherosclerosis', 'Metabolic Syndrome', 'Back pain', 'Alzheimer s Disease', 'Night blindness', 'Parkinson s disease', 'Essential Fatty Acid Deficiency', 'Hair loss', 'Asymptomatic', 'Anxiety', 'Swelling', 'Swollen mucous membranes', 'Disease caused by deficiencies of the nutrient', 'Osteoarthritis', 'Memory loss', 'Vitamin E Deficiency', 'Poor healing', 'Clinical features', 'Weakness', 'Nausea', 'Not specified', 'Sore throat', 'Bone fractures', 'Irritable bowel syndrome', 'Allergic disorders', 'Nerve damage']\n",
    "\n",
    "\n",
    "sentence = \"\"\"I've been feeling a bit off lately. I'm experiencing a lot of muscle weakness, especially in my legs. \n",
    "Sometimes, I even have trouble walking without stumbling. My reflexes seem slower than usual, \n",
    "and I've noticed some numbness and tingling in my hands and feet. \n",
    "I've also been feeling a bit lightheaded, and my vision seems a little blurry. I'm worried about what might be causing these issues.\"\"\"\n",
    "\n",
    "start_time = time.time()\n",
    "for i in range(10000):\n",
    "    mapped_keywords = map_sentence_to_keywords_fuzzy(keyword_list, sentence)\n",
    "end_time = time.time()\n",
    "print(\"Time taken:\", end_time - start_time)\n",
    "print(\"Fuzzy Mapped Keywords:\", mapped_keywords)"
   ]
  },
  {
   "cell_type": "code",
   "execution_count": 43,
   "metadata": {},
   "outputs": [
    {
     "name": "stderr",
     "output_type": "stream",
     "text": [
      "huggingface/tokenizers: The current process just got forked, after parallelism has already been used. Disabling parallelism to avoid deadlocks...\n",
      "To disable this warning, you can either:\n",
      "\t- Avoid using `tokenizers` before the fork if possible\n",
      "\t- Explicitly set the environment variable TOKENIZERS_PARALLELISM=(true | false)\n"
     ]
    },
    {
     "name": "stdout",
     "output_type": "stream",
     "text": [
      "Found existing installation: peft 0.14.0\n",
      "Uninstalling peft-0.14.0:\n",
      "  Successfully uninstalled peft-0.14.0\n"
     ]
    }
   ],
   "source": [
    "# install sentence_transformers\n",
    "! pip uninstall peft -y"
   ]
  },
  {
   "cell_type": "code",
   "execution_count": 44,
   "metadata": {},
   "outputs": [
    {
     "name": "stderr",
     "output_type": "stream",
     "text": [
      "huggingface/tokenizers: The current process just got forked, after parallelism has already been used. Disabling parallelism to avoid deadlocks...\n",
      "To disable this warning, you can either:\n",
      "\t- Avoid using `tokenizers` before the fork if possible\n",
      "\t- Explicitly set the environment variable TOKENIZERS_PARALLELISM=(true | false)\n"
     ]
    },
    {
     "name": "stdout",
     "output_type": "stream",
     "text": [
      "Collecting peft==0.3.0\n",
      "  Using cached peft-0.3.0-py3-none-any.whl.metadata (21 kB)\n",
      "Requirement already satisfied: numpy>=1.17 in /Users/obinnairrechukwu/anaconda3/envs/myLLMenv/lib/python3.11/site-packages (from peft==0.3.0) (1.26.4)\n",
      "Requirement already satisfied: packaging>=20.0 in /Users/obinnairrechukwu/anaconda3/envs/myLLMenv/lib/python3.11/site-packages (from peft==0.3.0) (24.1)\n",
      "Requirement already satisfied: psutil in /Users/obinnairrechukwu/anaconda3/envs/myLLMenv/lib/python3.11/site-packages (from peft==0.3.0) (5.9.0)\n",
      "Requirement already satisfied: pyyaml in /Users/obinnairrechukwu/anaconda3/envs/myLLMenv/lib/python3.11/site-packages (from peft==0.3.0) (6.0.1)\n",
      "Requirement already satisfied: torch>=1.13.0 in /Users/obinnairrechukwu/anaconda3/envs/myLLMenv/lib/python3.11/site-packages (from peft==0.3.0) (2.3.1)\n",
      "Requirement already satisfied: transformers in /Users/obinnairrechukwu/anaconda3/envs/myLLMenv/lib/python3.11/site-packages (from peft==0.3.0) (4.41.2)\n",
      "Requirement already satisfied: accelerate in /Users/obinnairrechukwu/anaconda3/envs/myLLMenv/lib/python3.11/site-packages (from peft==0.3.0) (0.30.1)\n",
      "Requirement already satisfied: filelock in /Users/obinnairrechukwu/anaconda3/envs/myLLMenv/lib/python3.11/site-packages (from torch>=1.13.0->peft==0.3.0) (3.15.4)\n",
      "Requirement already satisfied: typing-extensions>=4.8.0 in /Users/obinnairrechukwu/anaconda3/envs/myLLMenv/lib/python3.11/site-packages (from torch>=1.13.0->peft==0.3.0) (4.12.2)\n",
      "Requirement already satisfied: sympy in /Users/obinnairrechukwu/anaconda3/envs/myLLMenv/lib/python3.11/site-packages (from torch>=1.13.0->peft==0.3.0) (1.12.1)\n",
      "Requirement already satisfied: networkx in /Users/obinnairrechukwu/anaconda3/envs/myLLMenv/lib/python3.11/site-packages (from torch>=1.13.0->peft==0.3.0) (3.3)\n",
      "Requirement already satisfied: jinja2 in /Users/obinnairrechukwu/anaconda3/envs/myLLMenv/lib/python3.11/site-packages (from torch>=1.13.0->peft==0.3.0) (3.1.4)\n",
      "Requirement already satisfied: fsspec in /Users/obinnairrechukwu/anaconda3/envs/myLLMenv/lib/python3.11/site-packages (from torch>=1.13.0->peft==0.3.0) (2023.10.0)\n",
      "Requirement already satisfied: huggingface-hub in /Users/obinnairrechukwu/anaconda3/envs/myLLMenv/lib/python3.11/site-packages (from accelerate->peft==0.3.0) (0.26.5)\n",
      "Requirement already satisfied: safetensors>=0.3.1 in /Users/obinnairrechukwu/anaconda3/envs/myLLMenv/lib/python3.11/site-packages (from accelerate->peft==0.3.0) (0.4.3)\n",
      "Requirement already satisfied: regex!=2019.12.17 in /Users/obinnairrechukwu/anaconda3/envs/myLLMenv/lib/python3.11/site-packages (from transformers->peft==0.3.0) (2024.5.15)\n",
      "Requirement already satisfied: requests in /Users/obinnairrechukwu/anaconda3/envs/myLLMenv/lib/python3.11/site-packages (from transformers->peft==0.3.0) (2.32.3)\n",
      "Requirement already satisfied: tokenizers<0.20,>=0.19 in /Users/obinnairrechukwu/anaconda3/envs/myLLMenv/lib/python3.11/site-packages (from transformers->peft==0.3.0) (0.19.1)\n",
      "Requirement already satisfied: tqdm>=4.27 in /Users/obinnairrechukwu/anaconda3/envs/myLLMenv/lib/python3.11/site-packages (from transformers->peft==0.3.0) (4.66.4)\n",
      "Requirement already satisfied: MarkupSafe>=2.0 in /Users/obinnairrechukwu/anaconda3/envs/myLLMenv/lib/python3.11/site-packages (from jinja2->torch>=1.13.0->peft==0.3.0) (2.1.5)\n",
      "Requirement already satisfied: charset-normalizer<4,>=2 in /Users/obinnairrechukwu/anaconda3/envs/myLLMenv/lib/python3.11/site-packages (from requests->transformers->peft==0.3.0) (3.3.2)\n",
      "Requirement already satisfied: idna<4,>=2.5 in /Users/obinnairrechukwu/anaconda3/envs/myLLMenv/lib/python3.11/site-packages (from requests->transformers->peft==0.3.0) (3.7)\n",
      "Requirement already satisfied: urllib3<3,>=1.21.1 in /Users/obinnairrechukwu/anaconda3/envs/myLLMenv/lib/python3.11/site-packages (from requests->transformers->peft==0.3.0) (2.2.2)\n",
      "Requirement already satisfied: certifi>=2017.4.17 in /Users/obinnairrechukwu/anaconda3/envs/myLLMenv/lib/python3.11/site-packages (from requests->transformers->peft==0.3.0) (2024.6.2)\n",
      "Requirement already satisfied: mpmath<1.4.0,>=1.1.0 in /Users/obinnairrechukwu/anaconda3/envs/myLLMenv/lib/python3.11/site-packages (from sympy->torch>=1.13.0->peft==0.3.0) (1.3.0)\n",
      "Using cached peft-0.3.0-py3-none-any.whl (56 kB)\n",
      "Installing collected packages: peft\n",
      "Successfully installed peft-0.3.0\n"
     ]
    },
    {
     "name": "stderr",
     "output_type": "stream",
     "text": [
      "huggingface/tokenizers: The current process just got forked, after parallelism has already been used. Disabling parallelism to avoid deadlocks...\n",
      "To disable this warning, you can either:\n",
      "\t- Avoid using `tokenizers` before the fork if possible\n",
      "\t- Explicitly set the environment variable TOKENIZERS_PARALLELISM=(true | false)\n"
     ]
    },
    {
     "name": "stdout",
     "output_type": "stream",
     "text": [
      "Requirement already satisfied: sentence-transformers==3.1.0 in /Users/obinnairrechukwu/anaconda3/envs/myLLMenv/lib/python3.11/site-packages (3.1.0)\n",
      "Requirement already satisfied: transformers<5.0.0,>=4.38.0 in /Users/obinnairrechukwu/anaconda3/envs/myLLMenv/lib/python3.11/site-packages (from sentence-transformers==3.1.0) (4.41.2)\n",
      "Requirement already satisfied: tqdm in /Users/obinnairrechukwu/anaconda3/envs/myLLMenv/lib/python3.11/site-packages (from sentence-transformers==3.1.0) (4.66.4)\n",
      "Requirement already satisfied: torch>=1.11.0 in /Users/obinnairrechukwu/anaconda3/envs/myLLMenv/lib/python3.11/site-packages (from sentence-transformers==3.1.0) (2.3.1)\n",
      "Requirement already satisfied: numpy<2.0.0 in /Users/obinnairrechukwu/anaconda3/envs/myLLMenv/lib/python3.11/site-packages (from sentence-transformers==3.1.0) (1.26.4)\n",
      "Requirement already satisfied: scikit-learn in /Users/obinnairrechukwu/anaconda3/envs/myLLMenv/lib/python3.11/site-packages (from sentence-transformers==3.1.0) (1.5.2)\n",
      "Requirement already satisfied: scipy in /Users/obinnairrechukwu/anaconda3/envs/myLLMenv/lib/python3.11/site-packages (from sentence-transformers==3.1.0) (1.14.1)\n",
      "Requirement already satisfied: huggingface-hub>=0.19.3 in /Users/obinnairrechukwu/anaconda3/envs/myLLMenv/lib/python3.11/site-packages (from sentence-transformers==3.1.0) (0.26.5)\n",
      "Requirement already satisfied: Pillow in /Users/obinnairrechukwu/anaconda3/envs/myLLMenv/lib/python3.11/site-packages (from sentence-transformers==3.1.0) (10.4.0)\n",
      "Requirement already satisfied: filelock in /Users/obinnairrechukwu/anaconda3/envs/myLLMenv/lib/python3.11/site-packages (from huggingface-hub>=0.19.3->sentence-transformers==3.1.0) (3.15.4)\n",
      "Requirement already satisfied: fsspec>=2023.5.0 in /Users/obinnairrechukwu/anaconda3/envs/myLLMenv/lib/python3.11/site-packages (from huggingface-hub>=0.19.3->sentence-transformers==3.1.0) (2023.10.0)\n",
      "Requirement already satisfied: packaging>=20.9 in /Users/obinnairrechukwu/anaconda3/envs/myLLMenv/lib/python3.11/site-packages (from huggingface-hub>=0.19.3->sentence-transformers==3.1.0) (24.1)\n",
      "Requirement already satisfied: pyyaml>=5.1 in /Users/obinnairrechukwu/anaconda3/envs/myLLMenv/lib/python3.11/site-packages (from huggingface-hub>=0.19.3->sentence-transformers==3.1.0) (6.0.1)\n",
      "Requirement already satisfied: requests in /Users/obinnairrechukwu/anaconda3/envs/myLLMenv/lib/python3.11/site-packages (from huggingface-hub>=0.19.3->sentence-transformers==3.1.0) (2.32.3)\n",
      "Requirement already satisfied: typing-extensions>=3.7.4.3 in /Users/obinnairrechukwu/anaconda3/envs/myLLMenv/lib/python3.11/site-packages (from huggingface-hub>=0.19.3->sentence-transformers==3.1.0) (4.12.2)\n",
      "Requirement already satisfied: sympy in /Users/obinnairrechukwu/anaconda3/envs/myLLMenv/lib/python3.11/site-packages (from torch>=1.11.0->sentence-transformers==3.1.0) (1.12.1)\n",
      "Requirement already satisfied: networkx in /Users/obinnairrechukwu/anaconda3/envs/myLLMenv/lib/python3.11/site-packages (from torch>=1.11.0->sentence-transformers==3.1.0) (3.3)\n",
      "Requirement already satisfied: jinja2 in /Users/obinnairrechukwu/anaconda3/envs/myLLMenv/lib/python3.11/site-packages (from torch>=1.11.0->sentence-transformers==3.1.0) (3.1.4)\n",
      "Requirement already satisfied: regex!=2019.12.17 in /Users/obinnairrechukwu/anaconda3/envs/myLLMenv/lib/python3.11/site-packages (from transformers<5.0.0,>=4.38.0->sentence-transformers==3.1.0) (2024.5.15)\n",
      "Requirement already satisfied: tokenizers<0.20,>=0.19 in /Users/obinnairrechukwu/anaconda3/envs/myLLMenv/lib/python3.11/site-packages (from transformers<5.0.0,>=4.38.0->sentence-transformers==3.1.0) (0.19.1)\n",
      "Requirement already satisfied: safetensors>=0.4.1 in /Users/obinnairrechukwu/anaconda3/envs/myLLMenv/lib/python3.11/site-packages (from transformers<5.0.0,>=4.38.0->sentence-transformers==3.1.0) (0.4.3)\n",
      "Requirement already satisfied: joblib>=1.2.0 in /Users/obinnairrechukwu/anaconda3/envs/myLLMenv/lib/python3.11/site-packages (from scikit-learn->sentence-transformers==3.1.0) (1.4.2)\n",
      "Requirement already satisfied: threadpoolctl>=3.1.0 in /Users/obinnairrechukwu/anaconda3/envs/myLLMenv/lib/python3.11/site-packages (from scikit-learn->sentence-transformers==3.1.0) (3.5.0)\n",
      "Requirement already satisfied: MarkupSafe>=2.0 in /Users/obinnairrechukwu/anaconda3/envs/myLLMenv/lib/python3.11/site-packages (from jinja2->torch>=1.11.0->sentence-transformers==3.1.0) (2.1.5)\n",
      "Requirement already satisfied: charset-normalizer<4,>=2 in /Users/obinnairrechukwu/anaconda3/envs/myLLMenv/lib/python3.11/site-packages (from requests->huggingface-hub>=0.19.3->sentence-transformers==3.1.0) (3.3.2)\n",
      "Requirement already satisfied: idna<4,>=2.5 in /Users/obinnairrechukwu/anaconda3/envs/myLLMenv/lib/python3.11/site-packages (from requests->huggingface-hub>=0.19.3->sentence-transformers==3.1.0) (3.7)\n",
      "Requirement already satisfied: urllib3<3,>=1.21.1 in /Users/obinnairrechukwu/anaconda3/envs/myLLMenv/lib/python3.11/site-packages (from requests->huggingface-hub>=0.19.3->sentence-transformers==3.1.0) (2.2.2)\n",
      "Requirement already satisfied: certifi>=2017.4.17 in /Users/obinnairrechukwu/anaconda3/envs/myLLMenv/lib/python3.11/site-packages (from requests->huggingface-hub>=0.19.3->sentence-transformers==3.1.0) (2024.6.2)\n",
      "Requirement already satisfied: mpmath<1.4.0,>=1.1.0 in /Users/obinnairrechukwu/anaconda3/envs/myLLMenv/lib/python3.11/site-packages (from sympy->torch>=1.11.0->sentence-transformers==3.1.0) (1.3.0)\n"
     ]
    }
   ],
   "source": [
    "! pip install peft==0.3.0\n",
    "! pip install sentence-transformers==3.1.0"
   ]
  },
  {
   "cell_type": "code",
   "execution_count": 36,
   "metadata": {},
   "outputs": [
    {
     "name": "stderr",
     "output_type": "stream",
     "text": [
      "huggingface/tokenizers: The current process just got forked, after parallelism has already been used. Disabling parallelism to avoid deadlocks...\n",
      "To disable this warning, you can either:\n",
      "\t- Avoid using `tokenizers` before the fork if possible\n",
      "\t- Explicitly set the environment variable TOKENIZERS_PARALLELISM=(true | false)\n"
     ]
    },
    {
     "name": "stdout",
     "output_type": "stream",
     "text": [
      "Found existing installation: annoy 1.17.3\n",
      "Uninstalling annoy-1.17.3:\n",
      "  Successfully uninstalled annoy-1.17.3\n"
     ]
    },
    {
     "name": "stderr",
     "output_type": "stream",
     "text": [
      "huggingface/tokenizers: The current process just got forked, after parallelism has already been used. Disabling parallelism to avoid deadlocks...\n",
      "To disable this warning, you can either:\n",
      "\t- Avoid using `tokenizers` before the fork if possible\n",
      "\t- Explicitly set the environment variable TOKENIZERS_PARALLELISM=(true | false)\n"
     ]
    },
    {
     "name": "stdout",
     "output_type": "stream",
     "text": [
      "Collecting annoy\n",
      "  Using cached annoy-1.17.3-cp311-cp311-macosx_11_0_arm64.whl\n",
      "Installing collected packages: annoy\n",
      "Successfully installed annoy-1.17.3\n"
     ]
    }
   ],
   "source": [
    "# install annoy\n",
    "! pip uninstall annoy -y\n",
    "! pip install annoy"
   ]
  },
  {
   "cell_type": "code",
   "execution_count": 39,
   "metadata": {},
   "outputs": [
    {
     "name": "stderr",
     "output_type": "stream",
     "text": [
      "huggingface/tokenizers: The current process just got forked, after parallelism has already been used. Disabling parallelism to avoid deadlocks...\n",
      "To disable this warning, you can either:\n",
      "\t- Avoid using `tokenizers` before the fork if possible\n",
      "\t- Explicitly set the environment variable TOKENIZERS_PARALLELISM=(true | false)\n"
     ]
    },
    {
     "name": "stdout",
     "output_type": "stream",
     "text": [
      "Requirement already satisfied: peft in /Users/obinnairrechukwu/anaconda3/envs/myLLMenv/lib/python3.11/site-packages (0.3.0)\n",
      "Collecting peft\n",
      "  Using cached peft-0.14.0-py3-none-any.whl.metadata (13 kB)\n",
      "Requirement already satisfied: numpy>=1.17 in /Users/obinnairrechukwu/anaconda3/envs/myLLMenv/lib/python3.11/site-packages (from peft) (1.26.4)\n",
      "Requirement already satisfied: packaging>=20.0 in /Users/obinnairrechukwu/anaconda3/envs/myLLMenv/lib/python3.11/site-packages (from peft) (24.1)\n",
      "Requirement already satisfied: psutil in /Users/obinnairrechukwu/anaconda3/envs/myLLMenv/lib/python3.11/site-packages (from peft) (5.9.0)\n",
      "Requirement already satisfied: pyyaml in /Users/obinnairrechukwu/anaconda3/envs/myLLMenv/lib/python3.11/site-packages (from peft) (6.0.1)\n",
      "Requirement already satisfied: torch>=1.13.0 in /Users/obinnairrechukwu/anaconda3/envs/myLLMenv/lib/python3.11/site-packages (from peft) (2.3.1)\n",
      "Requirement already satisfied: transformers in /Users/obinnairrechukwu/anaconda3/envs/myLLMenv/lib/python3.11/site-packages (from peft) (4.41.2)\n",
      "Requirement already satisfied: tqdm in /Users/obinnairrechukwu/anaconda3/envs/myLLMenv/lib/python3.11/site-packages (from peft) (4.66.4)\n",
      "Requirement already satisfied: accelerate>=0.21.0 in /Users/obinnairrechukwu/anaconda3/envs/myLLMenv/lib/python3.11/site-packages (from peft) (0.30.1)\n",
      "Requirement already satisfied: safetensors in /Users/obinnairrechukwu/anaconda3/envs/myLLMenv/lib/python3.11/site-packages (from peft) (0.4.3)\n",
      "Requirement already satisfied: huggingface-hub>=0.25.0 in /Users/obinnairrechukwu/anaconda3/envs/myLLMenv/lib/python3.11/site-packages (from peft) (0.26.5)\n",
      "Requirement already satisfied: filelock in /Users/obinnairrechukwu/anaconda3/envs/myLLMenv/lib/python3.11/site-packages (from huggingface-hub>=0.25.0->peft) (3.15.4)\n",
      "Requirement already satisfied: fsspec>=2023.5.0 in /Users/obinnairrechukwu/anaconda3/envs/myLLMenv/lib/python3.11/site-packages (from huggingface-hub>=0.25.0->peft) (2023.10.0)\n",
      "Requirement already satisfied: requests in /Users/obinnairrechukwu/anaconda3/envs/myLLMenv/lib/python3.11/site-packages (from huggingface-hub>=0.25.0->peft) (2.32.3)\n",
      "Requirement already satisfied: typing-extensions>=3.7.4.3 in /Users/obinnairrechukwu/anaconda3/envs/myLLMenv/lib/python3.11/site-packages (from huggingface-hub>=0.25.0->peft) (4.12.2)\n",
      "Requirement already satisfied: sympy in /Users/obinnairrechukwu/anaconda3/envs/myLLMenv/lib/python3.11/site-packages (from torch>=1.13.0->peft) (1.12.1)\n",
      "Requirement already satisfied: networkx in /Users/obinnairrechukwu/anaconda3/envs/myLLMenv/lib/python3.11/site-packages (from torch>=1.13.0->peft) (3.3)\n",
      "Requirement already satisfied: jinja2 in /Users/obinnairrechukwu/anaconda3/envs/myLLMenv/lib/python3.11/site-packages (from torch>=1.13.0->peft) (3.1.4)\n",
      "Requirement already satisfied: regex!=2019.12.17 in /Users/obinnairrechukwu/anaconda3/envs/myLLMenv/lib/python3.11/site-packages (from transformers->peft) (2024.5.15)\n",
      "Requirement already satisfied: tokenizers<0.20,>=0.19 in /Users/obinnairrechukwu/anaconda3/envs/myLLMenv/lib/python3.11/site-packages (from transformers->peft) (0.19.1)\n",
      "Requirement already satisfied: MarkupSafe>=2.0 in /Users/obinnairrechukwu/anaconda3/envs/myLLMenv/lib/python3.11/site-packages (from jinja2->torch>=1.13.0->peft) (2.1.5)\n",
      "Requirement already satisfied: charset-normalizer<4,>=2 in /Users/obinnairrechukwu/anaconda3/envs/myLLMenv/lib/python3.11/site-packages (from requests->huggingface-hub>=0.25.0->peft) (3.3.2)\n",
      "Requirement already satisfied: idna<4,>=2.5 in /Users/obinnairrechukwu/anaconda3/envs/myLLMenv/lib/python3.11/site-packages (from requests->huggingface-hub>=0.25.0->peft) (3.7)\n",
      "Requirement already satisfied: urllib3<3,>=1.21.1 in /Users/obinnairrechukwu/anaconda3/envs/myLLMenv/lib/python3.11/site-packages (from requests->huggingface-hub>=0.25.0->peft) (2.2.2)\n",
      "Requirement already satisfied: certifi>=2017.4.17 in /Users/obinnairrechukwu/anaconda3/envs/myLLMenv/lib/python3.11/site-packages (from requests->huggingface-hub>=0.25.0->peft) (2024.6.2)\n",
      "Requirement already satisfied: mpmath<1.4.0,>=1.1.0 in /Users/obinnairrechukwu/anaconda3/envs/myLLMenv/lib/python3.11/site-packages (from sympy->torch>=1.13.0->peft) (1.3.0)\n",
      "Using cached peft-0.14.0-py3-none-any.whl (374 kB)\n",
      "Installing collected packages: peft\n",
      "  Attempting uninstall: peft\n",
      "    Found existing installation: peft 0.3.0\n",
      "    Uninstalling peft-0.3.0:\n",
      "      Successfully uninstalled peft-0.3.0\n",
      "Successfully installed peft-0.14.0\n"
     ]
    }
   ],
   "source": [
    "! pip install --upgrade peft"
   ]
  },
  {
   "cell_type": "code",
   "execution_count": 45,
   "metadata": {},
   "outputs": [
    {
     "name": "stderr",
     "output_type": "stream",
     "text": [
      "huggingface/tokenizers: The current process just got forked, after parallelism has already been used. Disabling parallelism to avoid deadlocks...\n",
      "To disable this warning, you can either:\n",
      "\t- Avoid using `tokenizers` before the fork if possible\n",
      "\t- Explicitly set the environment variable TOKENIZERS_PARALLELISM=(true | false)\n"
     ]
    },
    {
     "name": "stdout",
     "output_type": "stream",
     "text": [
      "Name: peft\n",
      "Version: 0.3.0\n",
      "Summary: Parameter-Efficient Fine-Tuning (PEFT)\n",
      "Home-page: https://github.com/huggingface/peft\n",
      "Author: The HuggingFace team\n",
      "Author-email: sourab@huggingface.co\n",
      "License: Apache\n",
      "Location: /Users/obinnairrechukwu/anaconda3/envs/myLLMenv/lib/python3.11/site-packages\n",
      "Requires: accelerate, numpy, packaging, psutil, pyyaml, torch, transformers\n",
      "Required-by: \n"
     ]
    }
   ],
   "source": [
    "! pip show peft"
   ]
  },
  {
   "cell_type": "code",
   "execution_count": 11,
   "metadata": {},
   "outputs": [],
   "source": [
    "from sentence_transformers import SentenceTransformer\n",
    "import numpy as np\n",
    "from annoy import AnnoyIndex\n",
    "\n",
    "def setup_sentence_transformer_matcher(keyword_list):\n",
    "    # Load the model\n",
    "    model = SentenceTransformer('sentence-transformers/all-MiniLM-L6-v2')\n",
    "    \n",
    "    keyword_sentences = [f\"symptoms of {keyword.lower()}\" for keyword in keyword_list]\n",
    "    keyword_vectors = model.encode(keyword_sentences)\n",
    "    \n",
    "    # Setup Annoy index\n",
    "    vector_dimension = keyword_vectors.shape[1]  # Get dimensionality from the model output\n",
    "    index = AnnoyIndex(vector_dimension, 'angular')\n",
    "    \n",
    "    for i, vec in enumerate(keyword_vectors):\n",
    "        index.add_item(i, vec)\n",
    "    index.build(10)\n",
    "    \n",
    "    return model, index, keyword_vectors\n",
    "\n",
    "def map_sentence_to_keywords_transformer(model, index, keyword_list, sentence, top_n=3):\n",
    "    # Convert input to proper sentence format\n",
    "    input_sentence = f\"patient describes symptoms: {sentence.lower()}\"\n",
    "    \n",
    "    # Get embedding for the sentence\n",
    "    sentence_vector = model.encode(input_sentence)\n",
    "    \n",
    "    # Find nearest neighbors\n",
    "    nearest = index.get_nns_by_vector(sentence_vector, top_n)\n",
    "    return [keyword_list[i] for i in nearest]\n",
    "\n",
    "\n",
    "#keyword_list = ['Bruising', 'Hemolytic anemia', 'Iron-deficiency Anemia', 'Spina bifida', 'Ariboflavinosis', 'Tremors', 'Skin irritation', 'Cardiovascular Disease', 'Heart Disease', 'Hypomagnesemia', 'Difficulty concentrating', 'Liver damage', 'Bleeding gums', 'Inflammatory disorders', 'Parkinson s Disease', 'Preeclampsia', 'Swollen gums', 'Tissue fragility', 'Abdominal Pain', 'Oxidative stress', 'Fatigue', 'Depressed Mood', 'Chest pain', 'Magnesium Deficiency', 'Joint pain', 'Increased oxidative stress', 'Cognitive Impairment', 'Thrombus formation', 'Coronary heart disease', 'Reduced bone mass', 'Pale skin', 'Deficiency can lead to neurological disorders', 'Zinc Deficiency', 'Clostridium difficile infection', 'Hair Loss', 'Abdominal Cramps', 'Antibiotic-associated diarrhea', 'Migraine', 'Alzheimer s disease', 'Cell proliferation', 'Loss of height', 'Osteoporosis', 'Airway inflammation', 'Poor bioavailability of tocotrienol', 'Dysmenorrhea', 'Menstrual Pain', 'Sensitivity to light', 'Neurological disorders', 'Asthma', 'Blindness', 'Neurodevelopmental Disorders', 'Anemia', 'Cognitive Decline', 'Delayed wound healing', 'Headache', 'Difficulty seeing in low light', 'High blood pressure', 'Beriberi', 'Bleeding Gums', 'Premenstrual Syndrome (PMS)', 'Weight gain', 'Tiredness', 'Muscle cramps', 'Bradykinesia', 'Protein in urine', 'Proinflammatory cytokines production', 'Behavioral Issues', 'Dry eyes', 'Irritability', 'Insulin resistance', 'Traumatic brain injury', 'Not available', 'Major Depression', 'Cardiac arrhythmias', 'Increased risk of atherosclerosis', 'Muscle Weakness', 'Depression', 'Vitamin A Deficiency', 'Dry Skin', 'Neural tube defects', 'Scurvy', 'Cognitive decline', 'Vision problems', 'Insulin Resistance', 'N/A', 'Increased fragility', 'Mood swings', 'Weakened immune system', 'High blood sugar levels', 'Anencephaly', 'Muscle weakness', 'Diarrhea', 'Capillary fragility', 'Xerophthalmia', 'Anxiety and Depression', 'Shortness of breath', 'Atheromas formation', 'Heart-related symptoms', 'Bone pain', 'Decreased bone density', 'Numbness', 'Vision Problems', 'Inflammatory Diseases', 'Hypomagnesaemia', 'Bloating', 'Atherosclerosis', 'Metabolic Syndrome', 'Back pain', 'Alzheimer s Disease', 'Night blindness', 'Parkinson s disease', 'Essential Fatty Acid Deficiency', 'Hair loss', 'Asymptomatic', 'Anxiety', 'Swelling', 'Swollen mucous membranes', 'Disease caused by deficiencies of the nutrient', 'Osteoarthritis', 'Memory loss', 'Vitamin E Deficiency', 'Poor healing', 'Clinical features', 'Weakness', 'Nausea', 'Not specified', 'Sore throat', 'Bone fractures', 'Irritable bowel syndrome', 'Allergic disorders', 'Nerve damage']\n",
    "\n",
    "keyword_list = ['weakened immune system', 'vision problems', 'neurological problems', 'muscle weakness',\n",
    "                'weakness and muscle damage', 'anemia', 'impaired immune response',\n",
    "                'oxidative degradation', 'nerve damage', 'poor vision', 'dry skin', 'increased susceptibility to infections',\n",
    "                'xerophthalmia', 'clinical ophthalmic signs of vitamin A deficiency', 'severe VAD', \n",
    "                'depression', 'nervosness', 'irritability', 'sideroblastic microcytic anemia', 'seizures',\n",
    "                'peripheral neuropathy', 'dermatologic lesions', 'megaloblastic anemia', 'neropathy', 'memory loss',\n",
    "                'nausea and vomiting', 'migraine', 'insulin resistance', 'hypocalcemia', 'thrombosis',\n",
    "                'cardiovascular complications', 'impaired T cell activation and increased risk of hematologic malignancies',\n",
    "                'cognitive decline', 'abnormal health rhythms', 'mild anxiety', 'sleep disorders', 'fatigue and weakness',\n",
    "                'hypernatremia', 'confusion', 'numbness or tingling in extremities', 'sporadic hair loss', 'loss of muscle mass']\n",
    "model, index, keyword_vectors = setup_sentence_transformer_matcher(keyword_list)\n",
    "\n"
   ]
  },
  {
   "cell_type": "code",
   "execution_count": 48,
   "metadata": {},
   "outputs": [],
   "source": [
    "from peft import PeftModel, LoraConfig"
   ]
  },
  {
   "cell_type": "code",
   "execution_count": 50,
   "metadata": {},
   "outputs": [
    {
     "ename": "ImportError",
     "evalue": "cannot import name 'PeftModelForFeatureExtraction' from 'peft' (/Users/obinnairrechukwu/anaconda3/envs/myLLMenv/lib/python3.11/site-packages/peft/__init__.py)",
     "output_type": "error",
     "traceback": [
      "\u001b[0;31m---------------------------------------------------------------------------\u001b[0m",
      "\u001b[0;31mImportError\u001b[0m                               Traceback (most recent call last)",
      "Cell \u001b[0;32mIn[50], line 1\u001b[0m\n\u001b[0;32m----> 1\u001b[0m \u001b[38;5;28;01mfrom\u001b[39;00m \u001b[38;5;21;01mpeft\u001b[39;00m \u001b[38;5;28;01mimport\u001b[39;00m PeftModelForFeatureExtraction\n",
      "\u001b[0;31mImportError\u001b[0m: cannot import name 'PeftModelForFeatureExtraction' from 'peft' (/Users/obinnairrechukwu/anaconda3/envs/myLLMenv/lib/python3.11/site-packages/peft/__init__.py)"
     ]
    }
   ],
   "source": [
    "from peft import PeftModelForFeatureExtraction"
   ]
  },
  {
   "cell_type": "code",
   "execution_count": 12,
   "metadata": {},
   "outputs": [
    {
     "name": "stdout",
     "output_type": "stream",
     "text": [
      "Time taken: 78.0156569480896\n",
      "['weakness and muscle damage', 'muscle weakness', 'fatigue and weakness']\n"
     ]
    }
   ],
   "source": [
    "\n",
    "sentence = \"\"\"I've been feeling a bit off lately. I'm experiencing a lot of muscle weakness, \n",
    "              especially in my legs. Sometimes, I even have trouble walking without stumbling. \n",
    "              My reflexes seem slower than usual, and I've noticed some numbness and tingling \n",
    "              in my hands and feet. I've also been feeling a bit lightheaded, and my vision \n",
    "              seems a little blurry.\"\"\"\n",
    "\n",
    "start_time = time.time()\n",
    "for i in range(10000):\n",
    "    mapped_keywords = map_sentence_to_keywords_transformer(model, index, keyword_list, sentence)\n",
    "end_time = time.time()\n",
    "print(\"Time taken:\", end_time - start_time) \n",
    "print(mapped_keywords)"
   ]
  }
 ],
 "metadata": {
  "kernelspec": {
   "display_name": "myLLMenv",
   "language": "python",
   "name": "python3"
  },
  "language_info": {
   "codemirror_mode": {
    "name": "ipython",
    "version": 3
   },
   "file_extension": ".py",
   "mimetype": "text/x-python",
   "name": "python",
   "nbconvert_exporter": "python",
   "pygments_lexer": "ipython3",
   "version": "3.11.9"
  }
 },
 "nbformat": 4,
 "nbformat_minor": 2
}
